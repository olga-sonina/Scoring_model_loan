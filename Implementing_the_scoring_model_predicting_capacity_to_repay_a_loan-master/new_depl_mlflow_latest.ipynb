{
 "cells": [
  {
   "cell_type": "markdown",
   "id": "c079e4f3",
   "metadata": {},
   "source": [
    "# Project 7. Implementation of scoring model"
   ]
  },
  {
   "cell_type": "markdown",
   "id": "5d42ae09",
   "metadata": {},
   "source": [
    "### Import libraries"
   ]
  },
  {
   "cell_type": "code",
   "execution_count": 1,
   "id": "0719b493",
   "metadata": {},
   "outputs": [],
   "source": [
    "import pandas as pd\n",
    "import numpy as np\n",
    "import matplotlib\n",
    "import matplotlib.pyplot as plt\n",
    "import seaborn as sns\n",
    "import sys\n",
    "#import gc\n",
    "#import time\n",
    "import mlflow\n",
    "import sklearn\n",
    "from lightgbm import LGBMClassifier\n",
    "from sklearn.metrics import roc_auc_score, roc_curve\n",
    "from sklearn.model_selection import KFold, StratifiedKFold\n",
    "from sklearn.model_selection import train_test_split\n",
    "import warnings\n",
    "import re\n",
    "import imblearn\n",
    "from imblearn.over_sampling import SMOTE\n",
    "from sklearn.model_selection import (train_test_split, GridSearchCV)\n",
    "from mlflow.models.signature import infer_signature \n",
    "warnings.simplefilter(action='ignore', category=FutureWarning)"
   ]
  },
  {
   "cell_type": "code",
   "execution_count": 2,
   "id": "3e4c7bd9",
   "metadata": {},
   "outputs": [
    {
     "name": "stdout",
     "output_type": "stream",
     "text": [
      "Libraries versions:\n",
      "Python                : 3.10.7 (tags/v3.10.7:6cc6b13, Sep  5 2022, 14:08:36) [MSC v.1933 64 bit (AMD64)]\n",
      "NumPy                 : 1.23.5\n",
      "Pandas                : 1.4.2\n",
      "mlflow                : 2.2.2\n",
      "matplotlib            : 3.5.2\n",
      "Seaborn               : 0.12.0\n"
     ]
    }
   ],
   "source": [
    "print('Libraries versions:')\n",
    "print('Python                : ' + sys.version)\n",
    "print('NumPy                 : ' + np.version.full_version)\n",
    "print('Pandas                : ' + pd.__version__)\n",
    "print('mlflow                : ' + mlflow.__version__)\n",
    "print('matplotlib            : ' + matplotlib.__version__)\n",
    "print('Seaborn               : ' + sns.__version__)"
   ]
  },
  {
   "cell_type": "code",
   "execution_count": 3,
   "id": "74db38fa",
   "metadata": {},
   "outputs": [],
   "source": [
    "def main_inf(df):\n",
    "    print(\"DataFrame shape: \", df.shape)\n",
    "    print(\"Nan rate: \", df.isna().mean().mean())\n",
    "    print(\"Doublons: \", df.duplicated().sum())  "
   ]
  },
  {
   "cell_type": "markdown",
   "id": "e9b05f24",
   "metadata": {},
   "source": [
    "### Import cleaned dataset"
   ]
  },
  {
   "cell_type": "code",
   "execution_count": 4,
   "id": "ba59c377",
   "metadata": {},
   "outputs": [
    {
     "name": "stdout",
     "output_type": "stream",
     "text": [
      "DataFrame shape:  (307507, 171)\n",
      "Nan rate:  0.07917560456047813\n",
      "Doublons:  0\n"
     ]
    }
   ],
   "source": [
    "df =pd.read_csv('cleaned.csv').drop(columns='Unnamed: 0')\n",
    "main_inf(df)\n",
    "categorical_columns = [col for col in df.columns if df[col].dtype == 'object']\n",
    "df=df.drop(columns=categorical_columns)\n",
    "df=df.dropna()"
   ]
  },
  {
   "cell_type": "code",
   "execution_count": 7,
   "id": "ec6844ac",
   "metadata": {},
   "outputs": [
    {
     "data": {
      "text/plain": [
       "(35185, 161)"
      ]
     },
     "execution_count": 7,
     "metadata": {},
     "output_type": "execute_result"
    }
   ],
   "source": [
    "df.shape"
   ]
  },
  {
   "cell_type": "code",
   "execution_count": 8,
   "id": "d860896b",
   "metadata": {},
   "outputs": [
    {
     "data": {
      "text/html": [
       "<div>\n",
       "<style scoped>\n",
       "    .dataframe tbody tr th:only-of-type {\n",
       "        vertical-align: middle;\n",
       "    }\n",
       "\n",
       "    .dataframe tbody tr th {\n",
       "        vertical-align: top;\n",
       "    }\n",
       "\n",
       "    .dataframe thead th {\n",
       "        text-align: right;\n",
       "    }\n",
       "</style>\n",
       "<table border=\"1\" class=\"dataframe\">\n",
       "  <thead>\n",
       "    <tr style=\"text-align: right;\">\n",
       "      <th></th>\n",
       "      <th>TARGET</th>\n",
       "      <th>CODE_GENDER</th>\n",
       "      <th>FLAG_OWN_CAR</th>\n",
       "      <th>FLAG_OWN_REALTY</th>\n",
       "      <th>CNT_CHILDREN</th>\n",
       "      <th>AMT_INCOME_TOTAL</th>\n",
       "      <th>AMT_CREDIT</th>\n",
       "      <th>AMT_ANNUITY</th>\n",
       "      <th>AMT_GOODS_PRICE</th>\n",
       "      <th>REGION_POPULATION_RELATIVE</th>\n",
       "      <th>...</th>\n",
       "      <th>INSTAL_AMT_INSTALMENT_MEAN</th>\n",
       "      <th>INSTAL_AMT_INSTALMENT_SUM</th>\n",
       "      <th>INSTAL_AMT_PAYMENT_MIN</th>\n",
       "      <th>INSTAL_AMT_PAYMENT_MAX</th>\n",
       "      <th>INSTAL_AMT_PAYMENT_MEAN</th>\n",
       "      <th>INSTAL_AMT_PAYMENT_SUM</th>\n",
       "      <th>INSTAL_DAYS_ENTRY_PAYMENT_MAX</th>\n",
       "      <th>INSTAL_DAYS_ENTRY_PAYMENT_MEAN</th>\n",
       "      <th>INSTAL_DAYS_ENTRY_PAYMENT_SUM</th>\n",
       "      <th>INSTAL_COUNT</th>\n",
       "    </tr>\n",
       "  </thead>\n",
       "  <tbody>\n",
       "    <tr>\n",
       "      <th>13</th>\n",
       "      <td>0.0</td>\n",
       "      <td>0.0</td>\n",
       "      <td>1.0</td>\n",
       "      <td>1.0</td>\n",
       "      <td>1.0</td>\n",
       "      <td>225000.0</td>\n",
       "      <td>918468.0</td>\n",
       "      <td>28966.5</td>\n",
       "      <td>697500.0</td>\n",
       "      <td>0.016612</td>\n",
       "      <td>...</td>\n",
       "      <td>13508.920500</td>\n",
       "      <td>405267.615</td>\n",
       "      <td>11783.520</td>\n",
       "      <td>16967.295</td>\n",
       "      <td>13508.920500</td>\n",
       "      <td>405267.615</td>\n",
       "      <td>-21.0</td>\n",
       "      <td>-962.533333</td>\n",
       "      <td>-28876.0</td>\n",
       "      <td>30.0</td>\n",
       "    </tr>\n",
       "    <tr>\n",
       "      <th>22</th>\n",
       "      <td>0.0</td>\n",
       "      <td>1.0</td>\n",
       "      <td>0.0</td>\n",
       "      <td>1.0</td>\n",
       "      <td>1.0</td>\n",
       "      <td>450000.0</td>\n",
       "      <td>497520.0</td>\n",
       "      <td>32521.5</td>\n",
       "      <td>450000.0</td>\n",
       "      <td>0.020713</td>\n",
       "      <td>...</td>\n",
       "      <td>119294.595000</td>\n",
       "      <td>954356.760</td>\n",
       "      <td>23531.175</td>\n",
       "      <td>770004.315</td>\n",
       "      <td>119294.595000</td>\n",
       "      <td>954356.760</td>\n",
       "      <td>-425.0</td>\n",
       "      <td>-1105.875000</td>\n",
       "      <td>-8847.0</td>\n",
       "      <td>8.0</td>\n",
       "    </tr>\n",
       "    <tr>\n",
       "      <th>25</th>\n",
       "      <td>0.0</td>\n",
       "      <td>1.0</td>\n",
       "      <td>0.0</td>\n",
       "      <td>0.0</td>\n",
       "      <td>0.0</td>\n",
       "      <td>90000.0</td>\n",
       "      <td>225000.0</td>\n",
       "      <td>11074.5</td>\n",
       "      <td>225000.0</td>\n",
       "      <td>0.028663</td>\n",
       "      <td>...</td>\n",
       "      <td>11820.645000</td>\n",
       "      <td>70923.870</td>\n",
       "      <td>9035.685</td>\n",
       "      <td>17846.145</td>\n",
       "      <td>11820.645000</td>\n",
       "      <td>70923.870</td>\n",
       "      <td>-233.0</td>\n",
       "      <td>-730.666667</td>\n",
       "      <td>-4384.0</td>\n",
       "      <td>6.0</td>\n",
       "    </tr>\n",
       "    <tr>\n",
       "      <th>32</th>\n",
       "      <td>0.0</td>\n",
       "      <td>1.0</td>\n",
       "      <td>0.0</td>\n",
       "      <td>1.0</td>\n",
       "      <td>0.0</td>\n",
       "      <td>90000.0</td>\n",
       "      <td>199008.0</td>\n",
       "      <td>20893.5</td>\n",
       "      <td>180000.0</td>\n",
       "      <td>0.010032</td>\n",
       "      <td>...</td>\n",
       "      <td>19217.569091</td>\n",
       "      <td>422786.520</td>\n",
       "      <td>5305.995</td>\n",
       "      <td>35172.135</td>\n",
       "      <td>19217.569091</td>\n",
       "      <td>422786.520</td>\n",
       "      <td>-235.0</td>\n",
       "      <td>-1247.409091</td>\n",
       "      <td>-27443.0</td>\n",
       "      <td>22.0</td>\n",
       "    </tr>\n",
       "    <tr>\n",
       "      <th>35</th>\n",
       "      <td>0.0</td>\n",
       "      <td>1.0</td>\n",
       "      <td>0.0</td>\n",
       "      <td>1.0</td>\n",
       "      <td>0.0</td>\n",
       "      <td>112500.0</td>\n",
       "      <td>450000.0</td>\n",
       "      <td>44509.5</td>\n",
       "      <td>450000.0</td>\n",
       "      <td>0.008575</td>\n",
       "      <td>...</td>\n",
       "      <td>6089.499000</td>\n",
       "      <td>121789.980</td>\n",
       "      <td>130.365</td>\n",
       "      <td>7297.515</td>\n",
       "      <td>5359.290750</td>\n",
       "      <td>107185.815</td>\n",
       "      <td>-1101.0</td>\n",
       "      <td>-1722.700000</td>\n",
       "      <td>-34454.0</td>\n",
       "      <td>20.0</td>\n",
       "    </tr>\n",
       "  </tbody>\n",
       "</table>\n",
       "<p>5 rows × 161 columns</p>\n",
       "</div>"
      ],
      "text/plain": [
       "    TARGET  CODE_GENDER  FLAG_OWN_CAR  FLAG_OWN_REALTY  CNT_CHILDREN  \\\n",
       "13     0.0          0.0           1.0              1.0           1.0   \n",
       "22     0.0          1.0           0.0              1.0           1.0   \n",
       "25     0.0          1.0           0.0              0.0           0.0   \n",
       "32     0.0          1.0           0.0              1.0           0.0   \n",
       "35     0.0          1.0           0.0              1.0           0.0   \n",
       "\n",
       "    AMT_INCOME_TOTAL  AMT_CREDIT  AMT_ANNUITY  AMT_GOODS_PRICE  \\\n",
       "13          225000.0    918468.0      28966.5         697500.0   \n",
       "22          450000.0    497520.0      32521.5         450000.0   \n",
       "25           90000.0    225000.0      11074.5         225000.0   \n",
       "32           90000.0    199008.0      20893.5         180000.0   \n",
       "35          112500.0    450000.0      44509.5         450000.0   \n",
       "\n",
       "    REGION_POPULATION_RELATIVE  ...  INSTAL_AMT_INSTALMENT_MEAN  \\\n",
       "13                    0.016612  ...                13508.920500   \n",
       "22                    0.020713  ...               119294.595000   \n",
       "25                    0.028663  ...                11820.645000   \n",
       "32                    0.010032  ...                19217.569091   \n",
       "35                    0.008575  ...                 6089.499000   \n",
       "\n",
       "    INSTAL_AMT_INSTALMENT_SUM  INSTAL_AMT_PAYMENT_MIN  INSTAL_AMT_PAYMENT_MAX  \\\n",
       "13                 405267.615               11783.520               16967.295   \n",
       "22                 954356.760               23531.175              770004.315   \n",
       "25                  70923.870                9035.685               17846.145   \n",
       "32                 422786.520                5305.995               35172.135   \n",
       "35                 121789.980                 130.365                7297.515   \n",
       "\n",
       "    INSTAL_AMT_PAYMENT_MEAN  INSTAL_AMT_PAYMENT_SUM  \\\n",
       "13             13508.920500              405267.615   \n",
       "22            119294.595000              954356.760   \n",
       "25             11820.645000               70923.870   \n",
       "32             19217.569091              422786.520   \n",
       "35              5359.290750              107185.815   \n",
       "\n",
       "    INSTAL_DAYS_ENTRY_PAYMENT_MAX  INSTAL_DAYS_ENTRY_PAYMENT_MEAN  \\\n",
       "13                          -21.0                     -962.533333   \n",
       "22                         -425.0                    -1105.875000   \n",
       "25                         -233.0                     -730.666667   \n",
       "32                         -235.0                    -1247.409091   \n",
       "35                        -1101.0                    -1722.700000   \n",
       "\n",
       "    INSTAL_DAYS_ENTRY_PAYMENT_SUM  INSTAL_COUNT  \n",
       "13                       -28876.0          30.0  \n",
       "22                        -8847.0           8.0  \n",
       "25                        -4384.0           6.0  \n",
       "32                       -27443.0          22.0  \n",
       "35                       -34454.0          20.0  \n",
       "\n",
       "[5 rows x 161 columns]"
      ]
     },
     "execution_count": 8,
     "metadata": {},
     "output_type": "execute_result"
    }
   ],
   "source": [
    "df.head()"
   ]
  },
  {
   "cell_type": "markdown",
   "id": "fd43f919",
   "metadata": {},
   "source": [
    "### Pipeline"
   ]
  },
  {
   "cell_type": "code",
   "execution_count": 9,
   "id": "21bbfa2c",
   "metadata": {},
   "outputs": [],
   "source": [
    "from sklearn import datasets, preprocessing, model_selection, ensemble, pipeline\n",
    "from sklearn.compose import ColumnTransformer\n",
    "from sklearn.pipeline import Pipeline\n",
    "from sklearn.impute import SimpleImputer\n",
    "from sklearn.preprocessing import StandardScaler, OneHotEncoder"
   ]
  },
  {
   "cell_type": "code",
   "execution_count": 13,
   "id": "b76a0a9d",
   "metadata": {},
   "outputs": [
    {
     "data": {
      "text/html": [
       "<div>\n",
       "<style scoped>\n",
       "    .dataframe tbody tr th:only-of-type {\n",
       "        vertical-align: middle;\n",
       "    }\n",
       "\n",
       "    .dataframe tbody tr th {\n",
       "        vertical-align: top;\n",
       "    }\n",
       "\n",
       "    .dataframe thead th {\n",
       "        text-align: right;\n",
       "    }\n",
       "</style>\n",
       "<table border=\"1\" class=\"dataframe\">\n",
       "  <thead>\n",
       "    <tr style=\"text-align: right;\">\n",
       "      <th></th>\n",
       "      <th>CODE_GENDER</th>\n",
       "      <th>FLAG_OWN_CAR</th>\n",
       "      <th>FLAG_OWN_REALTY</th>\n",
       "      <th>CNT_CHILDREN</th>\n",
       "      <th>AMT_INCOME_TOTAL</th>\n",
       "      <th>AMT_CREDIT</th>\n",
       "      <th>AMT_ANNUITY</th>\n",
       "      <th>AMT_GOODS_PRICE</th>\n",
       "      <th>REGION_POPULATION_RELATIVE</th>\n",
       "      <th>DAYS_BIRTH</th>\n",
       "      <th>...</th>\n",
       "      <th>INSTAL_AMT_INSTALMENT_MEAN</th>\n",
       "      <th>INSTAL_AMT_INSTALMENT_SUM</th>\n",
       "      <th>INSTAL_AMT_PAYMENT_MIN</th>\n",
       "      <th>INSTAL_AMT_PAYMENT_MAX</th>\n",
       "      <th>INSTAL_AMT_PAYMENT_MEAN</th>\n",
       "      <th>INSTAL_AMT_PAYMENT_SUM</th>\n",
       "      <th>INSTAL_DAYS_ENTRY_PAYMENT_MAX</th>\n",
       "      <th>INSTAL_DAYS_ENTRY_PAYMENT_MEAN</th>\n",
       "      <th>INSTAL_DAYS_ENTRY_PAYMENT_SUM</th>\n",
       "      <th>INSTAL_COUNT</th>\n",
       "    </tr>\n",
       "  </thead>\n",
       "  <tbody>\n",
       "    <tr>\n",
       "      <th>13</th>\n",
       "      <td>0.0</td>\n",
       "      <td>1.0</td>\n",
       "      <td>1.0</td>\n",
       "      <td>1.0</td>\n",
       "      <td>225000.0</td>\n",
       "      <td>918468.0</td>\n",
       "      <td>28966.5</td>\n",
       "      <td>697500.0</td>\n",
       "      <td>0.016612</td>\n",
       "      <td>-14086.0</td>\n",
       "      <td>...</td>\n",
       "      <td>13508.920500</td>\n",
       "      <td>405267.615</td>\n",
       "      <td>11783.520</td>\n",
       "      <td>16967.295</td>\n",
       "      <td>13508.920500</td>\n",
       "      <td>405267.615</td>\n",
       "      <td>-21.0</td>\n",
       "      <td>-962.533333</td>\n",
       "      <td>-28876.0</td>\n",
       "      <td>30.0</td>\n",
       "    </tr>\n",
       "    <tr>\n",
       "      <th>22</th>\n",
       "      <td>1.0</td>\n",
       "      <td>0.0</td>\n",
       "      <td>1.0</td>\n",
       "      <td>1.0</td>\n",
       "      <td>450000.0</td>\n",
       "      <td>497520.0</td>\n",
       "      <td>32521.5</td>\n",
       "      <td>450000.0</td>\n",
       "      <td>0.020713</td>\n",
       "      <td>-11146.0</td>\n",
       "      <td>...</td>\n",
       "      <td>119294.595000</td>\n",
       "      <td>954356.760</td>\n",
       "      <td>23531.175</td>\n",
       "      <td>770004.315</td>\n",
       "      <td>119294.595000</td>\n",
       "      <td>954356.760</td>\n",
       "      <td>-425.0</td>\n",
       "      <td>-1105.875000</td>\n",
       "      <td>-8847.0</td>\n",
       "      <td>8.0</td>\n",
       "    </tr>\n",
       "    <tr>\n",
       "      <th>25</th>\n",
       "      <td>1.0</td>\n",
       "      <td>0.0</td>\n",
       "      <td>0.0</td>\n",
       "      <td>0.0</td>\n",
       "      <td>90000.0</td>\n",
       "      <td>225000.0</td>\n",
       "      <td>11074.5</td>\n",
       "      <td>225000.0</td>\n",
       "      <td>0.028663</td>\n",
       "      <td>-19334.0</td>\n",
       "      <td>...</td>\n",
       "      <td>11820.645000</td>\n",
       "      <td>70923.870</td>\n",
       "      <td>9035.685</td>\n",
       "      <td>17846.145</td>\n",
       "      <td>11820.645000</td>\n",
       "      <td>70923.870</td>\n",
       "      <td>-233.0</td>\n",
       "      <td>-730.666667</td>\n",
       "      <td>-4384.0</td>\n",
       "      <td>6.0</td>\n",
       "    </tr>\n",
       "    <tr>\n",
       "      <th>32</th>\n",
       "      <td>1.0</td>\n",
       "      <td>0.0</td>\n",
       "      <td>1.0</td>\n",
       "      <td>0.0</td>\n",
       "      <td>90000.0</td>\n",
       "      <td>199008.0</td>\n",
       "      <td>20893.5</td>\n",
       "      <td>180000.0</td>\n",
       "      <td>0.010032</td>\n",
       "      <td>-12974.0</td>\n",
       "      <td>...</td>\n",
       "      <td>19217.569091</td>\n",
       "      <td>422786.520</td>\n",
       "      <td>5305.995</td>\n",
       "      <td>35172.135</td>\n",
       "      <td>19217.569091</td>\n",
       "      <td>422786.520</td>\n",
       "      <td>-235.0</td>\n",
       "      <td>-1247.409091</td>\n",
       "      <td>-27443.0</td>\n",
       "      <td>22.0</td>\n",
       "    </tr>\n",
       "    <tr>\n",
       "      <th>35</th>\n",
       "      <td>1.0</td>\n",
       "      <td>0.0</td>\n",
       "      <td>1.0</td>\n",
       "      <td>0.0</td>\n",
       "      <td>112500.0</td>\n",
       "      <td>450000.0</td>\n",
       "      <td>44509.5</td>\n",
       "      <td>450000.0</td>\n",
       "      <td>0.008575</td>\n",
       "      <td>-12158.0</td>\n",
       "      <td>...</td>\n",
       "      <td>6089.499000</td>\n",
       "      <td>121789.980</td>\n",
       "      <td>130.365</td>\n",
       "      <td>7297.515</td>\n",
       "      <td>5359.290750</td>\n",
       "      <td>107185.815</td>\n",
       "      <td>-1101.0</td>\n",
       "      <td>-1722.700000</td>\n",
       "      <td>-34454.0</td>\n",
       "      <td>20.0</td>\n",
       "    </tr>\n",
       "  </tbody>\n",
       "</table>\n",
       "<p>5 rows × 160 columns</p>\n",
       "</div>"
      ],
      "text/plain": [
       "    CODE_GENDER  FLAG_OWN_CAR  FLAG_OWN_REALTY  CNT_CHILDREN  \\\n",
       "13          0.0           1.0              1.0           1.0   \n",
       "22          1.0           0.0              1.0           1.0   \n",
       "25          1.0           0.0              0.0           0.0   \n",
       "32          1.0           0.0              1.0           0.0   \n",
       "35          1.0           0.0              1.0           0.0   \n",
       "\n",
       "    AMT_INCOME_TOTAL  AMT_CREDIT  AMT_ANNUITY  AMT_GOODS_PRICE  \\\n",
       "13          225000.0    918468.0      28966.5         697500.0   \n",
       "22          450000.0    497520.0      32521.5         450000.0   \n",
       "25           90000.0    225000.0      11074.5         225000.0   \n",
       "32           90000.0    199008.0      20893.5         180000.0   \n",
       "35          112500.0    450000.0      44509.5         450000.0   \n",
       "\n",
       "    REGION_POPULATION_RELATIVE  DAYS_BIRTH  ...  INSTAL_AMT_INSTALMENT_MEAN  \\\n",
       "13                    0.016612    -14086.0  ...                13508.920500   \n",
       "22                    0.020713    -11146.0  ...               119294.595000   \n",
       "25                    0.028663    -19334.0  ...                11820.645000   \n",
       "32                    0.010032    -12974.0  ...                19217.569091   \n",
       "35                    0.008575    -12158.0  ...                 6089.499000   \n",
       "\n",
       "    INSTAL_AMT_INSTALMENT_SUM  INSTAL_AMT_PAYMENT_MIN  INSTAL_AMT_PAYMENT_MAX  \\\n",
       "13                 405267.615               11783.520               16967.295   \n",
       "22                 954356.760               23531.175              770004.315   \n",
       "25                  70923.870                9035.685               17846.145   \n",
       "32                 422786.520                5305.995               35172.135   \n",
       "35                 121789.980                 130.365                7297.515   \n",
       "\n",
       "    INSTAL_AMT_PAYMENT_MEAN  INSTAL_AMT_PAYMENT_SUM  \\\n",
       "13             13508.920500              405267.615   \n",
       "22            119294.595000              954356.760   \n",
       "25             11820.645000               70923.870   \n",
       "32             19217.569091              422786.520   \n",
       "35              5359.290750              107185.815   \n",
       "\n",
       "    INSTAL_DAYS_ENTRY_PAYMENT_MAX  INSTAL_DAYS_ENTRY_PAYMENT_MEAN  \\\n",
       "13                          -21.0                     -962.533333   \n",
       "22                         -425.0                    -1105.875000   \n",
       "25                         -233.0                     -730.666667   \n",
       "32                         -235.0                    -1247.409091   \n",
       "35                        -1101.0                    -1722.700000   \n",
       "\n",
       "    INSTAL_DAYS_ENTRY_PAYMENT_SUM  INSTAL_COUNT  \n",
       "13                       -28876.0          30.0  \n",
       "22                        -8847.0           8.0  \n",
       "25                        -4384.0           6.0  \n",
       "32                       -27443.0          22.0  \n",
       "35                       -34454.0          20.0  \n",
       "\n",
       "[5 rows x 160 columns]"
      ]
     },
     "execution_count": 13,
     "metadata": {},
     "output_type": "execute_result"
    }
   ],
   "source": [
    "num_columns = [col for col in df.columns if df[col].dtype != 'object']\n",
    "num_columns.remove('TARGET')\n",
    "df[num_columns].head()"
   ]
  },
  {
   "cell_type": "code",
   "execution_count": 12,
   "id": "ab709dde",
   "metadata": {},
   "outputs": [],
   "source": [
    "#Categorical variables to use\n",
    "cat_vars = [categorical_columns][0]\n",
    "# Numerical Variables to use\n",
    "num_vars = [num_columns][0]\n",
    "#num_vars"
   ]
  },
  {
   "cell_type": "code",
   "execution_count": 12,
   "id": "a429debb",
   "metadata": {},
   "outputs": [
    {
     "data": {
      "text/plain": [
       "0.0"
      ]
     },
     "execution_count": 12,
     "metadata": {},
     "output_type": "execute_result"
    }
   ],
   "source": [
    "df.isna().mean().mean()"
   ]
  },
  {
   "cell_type": "code",
   "execution_count": 13,
   "id": "38183fc8",
   "metadata": {},
   "outputs": [],
   "source": [
    "numeric_features = num_vars\n",
    "numeric_transformer = Pipeline(steps=[\n",
    "    ('imputer', SimpleImputer(missing_values=np.nan,strategy='median')),\n",
    "    ('scaler', StandardScaler())])\n",
    "\n",
    "categorical_features = cat_vars\n",
    "categorical_transformer = Pipeline(steps=[\n",
    "    ('imputer', SimpleImputer(missing_values=np.nan,strategy='constant', fill_value='missing')),\n",
    "    ('onehot', OneHotEncoder(handle_unknown='ignore'))])\n",
    "\n",
    "preprocessor = ColumnTransformer(\n",
    "    transformers=[\n",
    "        ('num', numeric_transformer, numeric_features),\n",
    "        #('cat', categorical_transformer, categorical_features)\n",
    "    ])"
   ]
  },
  {
   "cell_type": "code",
   "execution_count": 14,
   "id": "370a3e11",
   "metadata": {},
   "outputs": [],
   "source": [
    "clfP = Pipeline(steps=[('preprocessor', preprocessor), #LGBM classifier pipeline\n",
    "                  ('classifier', LGBMClassifier(\n",
    "        nthread=4,\n",
    "        n_estimators=10000,\n",
    "        learning_rate=0.02,\n",
    "        num_leaves=34,\n",
    "        colsample_bytree=0.9497036,\n",
    "        subsample=0.8715623,\n",
    "        max_depth=8,\n",
    "        reg_alpha=0.041545473,\n",
    "        reg_lambda=0.0735294,\n",
    "        min_split_gain=0.0222415,\n",
    "        min_child_weight=39.3259775,\n",
    "        verbose=-1))])  "
   ]
  },
  {
   "cell_type": "code",
   "execution_count": 15,
   "id": "f900fb1b",
   "metadata": {},
   "outputs": [],
   "source": [
    "from sklearn.dummy import DummyClassifier\n",
    "clfD=Pipeline(steps=[('preprocessor', preprocessor),#Dummy classifier pipeline\n",
    "                  ('classifier', DummyClassifier(strategy=\"constant\",random_state=None, constant=0))])"
   ]
  },
  {
   "cell_type": "code",
   "execution_count": 5,
   "id": "96ad02de",
   "metadata": {},
   "outputs": [],
   "source": [
    "y=df['TARGET']\n",
    "X = df.drop(columns=['TARGET'])"
   ]
  },
  {
   "cell_type": "code",
   "execution_count": 6,
   "id": "9f9dc6c2",
   "metadata": {},
   "outputs": [],
   "source": [
    "# apply SMOTE to the data\n",
    "smote = SMOTE(random_state=42)\n",
    "X_resampled, y_resampled = smote.fit_resample(X, y)\n",
    "\n",
    "# reset the index of X_resampled and y_resampled\n",
    "X_resampled = X_resampled.reset_index(drop=True)\n",
    "y_resampled = y_resampled.reset_index(drop=True)\n"
   ]
  },
  {
   "cell_type": "code",
   "execution_count": 7,
   "id": "612d7dc2",
   "metadata": {},
   "outputs": [],
   "source": [
    "X_train_res,X_test_res,y_train_res,y_test_res = train_test_split(X_resampled,y_resampled,test_size=0.3)\n",
    "X_train, X_test, y_train,y_test=train_test_split(X,y,test_size=0.3)"
   ]
  },
  {
   "cell_type": "code",
   "execution_count": 19,
   "id": "d72c2786",
   "metadata": {},
   "outputs": [
    {
     "data": {
      "text/html": [
       "<style>#sk-container-id-1 {color: black;background-color: white;}#sk-container-id-1 pre{padding: 0;}#sk-container-id-1 div.sk-toggleable {background-color: white;}#sk-container-id-1 label.sk-toggleable__label {cursor: pointer;display: block;width: 100%;margin-bottom: 0;padding: 0.3em;box-sizing: border-box;text-align: center;}#sk-container-id-1 label.sk-toggleable__label-arrow:before {content: \"▸\";float: left;margin-right: 0.25em;color: #696969;}#sk-container-id-1 label.sk-toggleable__label-arrow:hover:before {color: black;}#sk-container-id-1 div.sk-estimator:hover label.sk-toggleable__label-arrow:before {color: black;}#sk-container-id-1 div.sk-toggleable__content {max-height: 0;max-width: 0;overflow: hidden;text-align: left;background-color: #f0f8ff;}#sk-container-id-1 div.sk-toggleable__content pre {margin: 0.2em;color: black;border-radius: 0.25em;background-color: #f0f8ff;}#sk-container-id-1 input.sk-toggleable__control:checked~div.sk-toggleable__content {max-height: 200px;max-width: 100%;overflow: auto;}#sk-container-id-1 input.sk-toggleable__control:checked~label.sk-toggleable__label-arrow:before {content: \"▾\";}#sk-container-id-1 div.sk-estimator input.sk-toggleable__control:checked~label.sk-toggleable__label {background-color: #d4ebff;}#sk-container-id-1 div.sk-label input.sk-toggleable__control:checked~label.sk-toggleable__label {background-color: #d4ebff;}#sk-container-id-1 input.sk-hidden--visually {border: 0;clip: rect(1px 1px 1px 1px);clip: rect(1px, 1px, 1px, 1px);height: 1px;margin: -1px;overflow: hidden;padding: 0;position: absolute;width: 1px;}#sk-container-id-1 div.sk-estimator {font-family: monospace;background-color: #f0f8ff;border: 1px dotted black;border-radius: 0.25em;box-sizing: border-box;margin-bottom: 0.5em;}#sk-container-id-1 div.sk-estimator:hover {background-color: #d4ebff;}#sk-container-id-1 div.sk-parallel-item::after {content: \"\";width: 100%;border-bottom: 1px solid gray;flex-grow: 1;}#sk-container-id-1 div.sk-label:hover label.sk-toggleable__label {background-color: #d4ebff;}#sk-container-id-1 div.sk-serial::before {content: \"\";position: absolute;border-left: 1px solid gray;box-sizing: border-box;top: 0;bottom: 0;left: 50%;z-index: 0;}#sk-container-id-1 div.sk-serial {display: flex;flex-direction: column;align-items: center;background-color: white;padding-right: 0.2em;padding-left: 0.2em;position: relative;}#sk-container-id-1 div.sk-item {position: relative;z-index: 1;}#sk-container-id-1 div.sk-parallel {display: flex;align-items: stretch;justify-content: center;background-color: white;position: relative;}#sk-container-id-1 div.sk-item::before, #sk-container-id-1 div.sk-parallel-item::before {content: \"\";position: absolute;border-left: 1px solid gray;box-sizing: border-box;top: 0;bottom: 0;left: 50%;z-index: -1;}#sk-container-id-1 div.sk-parallel-item {display: flex;flex-direction: column;z-index: 1;position: relative;background-color: white;}#sk-container-id-1 div.sk-parallel-item:first-child::after {align-self: flex-end;width: 50%;}#sk-container-id-1 div.sk-parallel-item:last-child::after {align-self: flex-start;width: 50%;}#sk-container-id-1 div.sk-parallel-item:only-child::after {width: 0;}#sk-container-id-1 div.sk-dashed-wrapped {border: 1px dashed gray;margin: 0 0.4em 0.5em 0.4em;box-sizing: border-box;padding-bottom: 0.4em;background-color: white;}#sk-container-id-1 div.sk-label label {font-family: monospace;font-weight: bold;display: inline-block;line-height: 1.2em;}#sk-container-id-1 div.sk-label-container {text-align: center;}#sk-container-id-1 div.sk-container {/* jupyter's `normalize.less` sets `[hidden] { display: none; }` but bootstrap.min.css set `[hidden] { display: none !important; }` so we also need the `!important` here to be able to override the default hidden behavior on the sphinx rendered scikit-learn.org. See: https://github.com/scikit-learn/scikit-learn/issues/21755 */display: inline-block !important;position: relative;}#sk-container-id-1 div.sk-text-repr-fallback {display: none;}</style><div id=\"sk-container-id-1\" class=\"sk-top-container\"><div class=\"sk-text-repr-fallback\"><pre>Pipeline(steps=[(&#x27;preprocessor&#x27;,\n",
       "                 ColumnTransformer(transformers=[(&#x27;num&#x27;,\n",
       "                                                  Pipeline(steps=[(&#x27;imputer&#x27;,\n",
       "                                                                   SimpleImputer(strategy=&#x27;median&#x27;)),\n",
       "                                                                  (&#x27;scaler&#x27;,\n",
       "                                                                   StandardScaler())]),\n",
       "                                                  [&#x27;CODE_GENDER&#x27;,\n",
       "                                                   &#x27;FLAG_OWN_CAR&#x27;,\n",
       "                                                   &#x27;FLAG_OWN_REALTY&#x27;,\n",
       "                                                   &#x27;CNT_CHILDREN&#x27;,\n",
       "                                                   &#x27;AMT_INCOME_TOTAL&#x27;,\n",
       "                                                   &#x27;AMT_CREDIT&#x27;, &#x27;AMT_ANNUITY&#x27;,\n",
       "                                                   &#x27;AMT_GOODS_PRICE&#x27;,\n",
       "                                                   &#x27;REGION_POPULATION_RELATIVE&#x27;,\n",
       "                                                   &#x27;DAYS_BIRTH&#x27;,\n",
       "                                                   &#x27;DAYS_EMPLOYED&#x27;,\n",
       "                                                   &#x27;DA...\n",
       "                                                   &#x27;FLAG_PHONE&#x27;, &#x27;FLAG_EMAIL&#x27;,\n",
       "                                                   &#x27;CNT_FAM_MEMBERS&#x27;,\n",
       "                                                   &#x27;REGION_RATING_CLIENT&#x27;,\n",
       "                                                   &#x27;REGION_RATING_CLIENT_W_CITY&#x27;,\n",
       "                                                   &#x27;HOUR_APPR_PROCESS_START&#x27;,\n",
       "                                                   &#x27;REG_REGION_NOT_LIVE_REGION&#x27;,\n",
       "                                                   &#x27;REG_REGION_NOT_WORK_REGION&#x27;,\n",
       "                                                   &#x27;LIVE_REGION_NOT_WORK_REGION&#x27;,\n",
       "                                                   &#x27;REG_CITY_NOT_LIVE_CITY&#x27;,\n",
       "                                                   &#x27;REG_CITY_NOT_WORK_CITY&#x27;,\n",
       "                                                   &#x27;LIVE_CITY_NOT_WORK_CITY&#x27;,\n",
       "                                                   &#x27;EXT_SOURCE_2&#x27;, ...])])),\n",
       "                (&#x27;classifier&#x27;,\n",
       "                 DummyClassifier(constant=0, strategy=&#x27;constant&#x27;))])</pre><b>In a Jupyter environment, please rerun this cell to show the HTML representation or trust the notebook. <br />On GitHub, the HTML representation is unable to render, please try loading this page with nbviewer.org.</b></div><div class=\"sk-container\" hidden><div class=\"sk-item sk-dashed-wrapped\"><div class=\"sk-label-container\"><div class=\"sk-label sk-toggleable\"><input class=\"sk-toggleable__control sk-hidden--visually\" id=\"sk-estimator-id-1\" type=\"checkbox\" ><label for=\"sk-estimator-id-1\" class=\"sk-toggleable__label sk-toggleable__label-arrow\">Pipeline</label><div class=\"sk-toggleable__content\"><pre>Pipeline(steps=[(&#x27;preprocessor&#x27;,\n",
       "                 ColumnTransformer(transformers=[(&#x27;num&#x27;,\n",
       "                                                  Pipeline(steps=[(&#x27;imputer&#x27;,\n",
       "                                                                   SimpleImputer(strategy=&#x27;median&#x27;)),\n",
       "                                                                  (&#x27;scaler&#x27;,\n",
       "                                                                   StandardScaler())]),\n",
       "                                                  [&#x27;CODE_GENDER&#x27;,\n",
       "                                                   &#x27;FLAG_OWN_CAR&#x27;,\n",
       "                                                   &#x27;FLAG_OWN_REALTY&#x27;,\n",
       "                                                   &#x27;CNT_CHILDREN&#x27;,\n",
       "                                                   &#x27;AMT_INCOME_TOTAL&#x27;,\n",
       "                                                   &#x27;AMT_CREDIT&#x27;, &#x27;AMT_ANNUITY&#x27;,\n",
       "                                                   &#x27;AMT_GOODS_PRICE&#x27;,\n",
       "                                                   &#x27;REGION_POPULATION_RELATIVE&#x27;,\n",
       "                                                   &#x27;DAYS_BIRTH&#x27;,\n",
       "                                                   &#x27;DAYS_EMPLOYED&#x27;,\n",
       "                                                   &#x27;DA...\n",
       "                                                   &#x27;FLAG_PHONE&#x27;, &#x27;FLAG_EMAIL&#x27;,\n",
       "                                                   &#x27;CNT_FAM_MEMBERS&#x27;,\n",
       "                                                   &#x27;REGION_RATING_CLIENT&#x27;,\n",
       "                                                   &#x27;REGION_RATING_CLIENT_W_CITY&#x27;,\n",
       "                                                   &#x27;HOUR_APPR_PROCESS_START&#x27;,\n",
       "                                                   &#x27;REG_REGION_NOT_LIVE_REGION&#x27;,\n",
       "                                                   &#x27;REG_REGION_NOT_WORK_REGION&#x27;,\n",
       "                                                   &#x27;LIVE_REGION_NOT_WORK_REGION&#x27;,\n",
       "                                                   &#x27;REG_CITY_NOT_LIVE_CITY&#x27;,\n",
       "                                                   &#x27;REG_CITY_NOT_WORK_CITY&#x27;,\n",
       "                                                   &#x27;LIVE_CITY_NOT_WORK_CITY&#x27;,\n",
       "                                                   &#x27;EXT_SOURCE_2&#x27;, ...])])),\n",
       "                (&#x27;classifier&#x27;,\n",
       "                 DummyClassifier(constant=0, strategy=&#x27;constant&#x27;))])</pre></div></div></div><div class=\"sk-serial\"><div class=\"sk-item sk-dashed-wrapped\"><div class=\"sk-label-container\"><div class=\"sk-label sk-toggleable\"><input class=\"sk-toggleable__control sk-hidden--visually\" id=\"sk-estimator-id-2\" type=\"checkbox\" ><label for=\"sk-estimator-id-2\" class=\"sk-toggleable__label sk-toggleable__label-arrow\">preprocessor: ColumnTransformer</label><div class=\"sk-toggleable__content\"><pre>ColumnTransformer(transformers=[(&#x27;num&#x27;,\n",
       "                                 Pipeline(steps=[(&#x27;imputer&#x27;,\n",
       "                                                  SimpleImputer(strategy=&#x27;median&#x27;)),\n",
       "                                                 (&#x27;scaler&#x27;, StandardScaler())]),\n",
       "                                 [&#x27;CODE_GENDER&#x27;, &#x27;FLAG_OWN_CAR&#x27;,\n",
       "                                  &#x27;FLAG_OWN_REALTY&#x27;, &#x27;CNT_CHILDREN&#x27;,\n",
       "                                  &#x27;AMT_INCOME_TOTAL&#x27;, &#x27;AMT_CREDIT&#x27;,\n",
       "                                  &#x27;AMT_ANNUITY&#x27;, &#x27;AMT_GOODS_PRICE&#x27;,\n",
       "                                  &#x27;REGION_POPULATION_RELATIVE&#x27;, &#x27;DAYS_BIRTH&#x27;,\n",
       "                                  &#x27;DAYS_EMPLOYED&#x27;, &#x27;DAYS_REGISTRATION&#x27;,\n",
       "                                  &#x27;DAYS_ID_PUBLIS...\n",
       "                                  &#x27;FLAG_EMP_PHONE&#x27;, &#x27;FLAG_WORK_PHONE&#x27;,\n",
       "                                  &#x27;FLAG_CONT_MOBILE&#x27;, &#x27;FLAG_PHONE&#x27;,\n",
       "                                  &#x27;FLAG_EMAIL&#x27;, &#x27;CNT_FAM_MEMBERS&#x27;,\n",
       "                                  &#x27;REGION_RATING_CLIENT&#x27;,\n",
       "                                  &#x27;REGION_RATING_CLIENT_W_CITY&#x27;,\n",
       "                                  &#x27;HOUR_APPR_PROCESS_START&#x27;,\n",
       "                                  &#x27;REG_REGION_NOT_LIVE_REGION&#x27;,\n",
       "                                  &#x27;REG_REGION_NOT_WORK_REGION&#x27;,\n",
       "                                  &#x27;LIVE_REGION_NOT_WORK_REGION&#x27;,\n",
       "                                  &#x27;REG_CITY_NOT_LIVE_CITY&#x27;,\n",
       "                                  &#x27;REG_CITY_NOT_WORK_CITY&#x27;,\n",
       "                                  &#x27;LIVE_CITY_NOT_WORK_CITY&#x27;, &#x27;EXT_SOURCE_2&#x27;, ...])])</pre></div></div></div><div class=\"sk-parallel\"><div class=\"sk-parallel-item\"><div class=\"sk-item\"><div class=\"sk-label-container\"><div class=\"sk-label sk-toggleable\"><input class=\"sk-toggleable__control sk-hidden--visually\" id=\"sk-estimator-id-3\" type=\"checkbox\" ><label for=\"sk-estimator-id-3\" class=\"sk-toggleable__label sk-toggleable__label-arrow\">num</label><div class=\"sk-toggleable__content\"><pre>[&#x27;CODE_GENDER&#x27;, &#x27;FLAG_OWN_CAR&#x27;, &#x27;FLAG_OWN_REALTY&#x27;, &#x27;CNT_CHILDREN&#x27;, &#x27;AMT_INCOME_TOTAL&#x27;, &#x27;AMT_CREDIT&#x27;, &#x27;AMT_ANNUITY&#x27;, &#x27;AMT_GOODS_PRICE&#x27;, &#x27;REGION_POPULATION_RELATIVE&#x27;, &#x27;DAYS_BIRTH&#x27;, &#x27;DAYS_EMPLOYED&#x27;, &#x27;DAYS_REGISTRATION&#x27;, &#x27;DAYS_ID_PUBLISH&#x27;, &#x27;FLAG_MOBIL&#x27;, &#x27;FLAG_EMP_PHONE&#x27;, &#x27;FLAG_WORK_PHONE&#x27;, &#x27;FLAG_CONT_MOBILE&#x27;, &#x27;FLAG_PHONE&#x27;, &#x27;FLAG_EMAIL&#x27;, &#x27;CNT_FAM_MEMBERS&#x27;, &#x27;REGION_RATING_CLIENT&#x27;, &#x27;REGION_RATING_CLIENT_W_CITY&#x27;, &#x27;HOUR_APPR_PROCESS_START&#x27;, &#x27;REG_REGION_NOT_LIVE_REGION&#x27;, &#x27;REG_REGION_NOT_WORK_REGION&#x27;, &#x27;LIVE_REGION_NOT_WORK_REGION&#x27;, &#x27;REG_CITY_NOT_LIVE_CITY&#x27;, &#x27;REG_CITY_NOT_WORK_CITY&#x27;, &#x27;LIVE_CITY_NOT_WORK_CITY&#x27;, &#x27;EXT_SOURCE_2&#x27;, &#x27;EXT_SOURCE_3&#x27;, &#x27;YEARS_BEGINEXPLUATATION_AVG&#x27;, &#x27;FLOORSMAX_AVG&#x27;, &#x27;YEARS_BEGINEXPLUATATION_MODE&#x27;, &#x27;FLOORSMAX_MODE&#x27;, &#x27;YEARS_BEGINEXPLUATATION_MEDI&#x27;, &#x27;FLOORSMAX_MEDI&#x27;, &#x27;TOTALAREA_MODE&#x27;, &#x27;OBS_30_CNT_SOCIAL_CIRCLE&#x27;, &#x27;DEF_30_CNT_SOCIAL_CIRCLE&#x27;, &#x27;OBS_60_CNT_SOCIAL_CIRCLE&#x27;, &#x27;DEF_60_CNT_SOCIAL_CIRCLE&#x27;, &#x27;DAYS_LAST_PHONE_CHANGE&#x27;, &#x27;FLAG_DOCUMENT_2&#x27;, &#x27;FLAG_DOCUMENT_3&#x27;, &#x27;FLAG_DOCUMENT_4&#x27;, &#x27;FLAG_DOCUMENT_5&#x27;, &#x27;FLAG_DOCUMENT_6&#x27;, &#x27;FLAG_DOCUMENT_7&#x27;, &#x27;FLAG_DOCUMENT_8&#x27;, &#x27;FLAG_DOCUMENT_9&#x27;, &#x27;FLAG_DOCUMENT_10&#x27;, &#x27;FLAG_DOCUMENT_11&#x27;, &#x27;FLAG_DOCUMENT_12&#x27;, &#x27;FLAG_DOCUMENT_13&#x27;, &#x27;FLAG_DOCUMENT_14&#x27;, &#x27;FLAG_DOCUMENT_15&#x27;, &#x27;FLAG_DOCUMENT_16&#x27;, &#x27;FLAG_DOCUMENT_17&#x27;, &#x27;FLAG_DOCUMENT_18&#x27;, &#x27;FLAG_DOCUMENT_19&#x27;, &#x27;FLAG_DOCUMENT_20&#x27;, &#x27;FLAG_DOCUMENT_21&#x27;, &#x27;AMT_REQ_CREDIT_BUREAU_HOUR&#x27;, &#x27;AMT_REQ_CREDIT_BUREAU_DAY&#x27;, &#x27;AMT_REQ_CREDIT_BUREAU_WEEK&#x27;, &#x27;AMT_REQ_CREDIT_BUREAU_MON&#x27;, &#x27;AMT_REQ_CREDIT_BUREAU_QRT&#x27;, &#x27;AMT_REQ_CREDIT_BUREAU_YEAR&#x27;, &#x27;DAYS_EMPLOYED_PERC&#x27;, &#x27;INCOME_CREDIT_PERC&#x27;, &#x27;INCOME_PER_PERSON&#x27;, &#x27;ANNUITY_INCOME_PERC&#x27;, &#x27;PAYMENT_RATE&#x27;, &#x27;BURO_DAYS_CREDIT_MIN&#x27;, &#x27;BURO_DAYS_CREDIT_MAX&#x27;, &#x27;BURO_DAYS_CREDIT_MEAN&#x27;, &#x27;BURO_DAYS_CREDIT_VAR&#x27;, &#x27;BURO_DAYS_CREDIT_ENDDATE_MIN&#x27;, &#x27;BURO_DAYS_CREDIT_ENDDATE_MAX&#x27;, &#x27;BURO_DAYS_CREDIT_ENDDATE_MEAN&#x27;, &#x27;BURO_DAYS_CREDIT_UPDATE_MEAN&#x27;, &#x27;BURO_CREDIT_DAY_OVERDUE_MAX&#x27;, &#x27;BURO_CREDIT_DAY_OVERDUE_MEAN&#x27;, &#x27;BURO_AMT_CREDIT_MAX_OVERDUE_MEAN&#x27;, &#x27;BURO_AMT_CREDIT_SUM_MAX&#x27;, &#x27;BURO_AMT_CREDIT_SUM_MEAN&#x27;, &#x27;BURO_AMT_CREDIT_SUM_SUM&#x27;, &#x27;BURO_AMT_CREDIT_SUM_DEBT_MAX&#x27;, &#x27;BURO_AMT_CREDIT_SUM_DEBT_MEAN&#x27;, &#x27;BURO_AMT_CREDIT_SUM_DEBT_SUM&#x27;, &#x27;BURO_AMT_CREDIT_SUM_OVERDUE_MEAN&#x27;, &#x27;BURO_AMT_CREDIT_SUM_LIMIT_MEAN&#x27;, &#x27;BURO_AMT_CREDIT_SUM_LIMIT_SUM&#x27;, &#x27;BURO_CNT_CREDIT_PROLONG_SUM&#x27;, &#x27;BURO_MONTHS_BALANCE_SIZE_SUM&#x27;, &#x27;PREV_AMT_ANNUITY_MIN&#x27;, &#x27;PREV_AMT_ANNUITY_MAX&#x27;, &#x27;PREV_AMT_ANNUITY_MEAN&#x27;, &#x27;PREV_AMT_APPLICATION_MIN&#x27;, &#x27;PREV_AMT_APPLICATION_MAX&#x27;, &#x27;PREV_AMT_APPLICATION_MEAN&#x27;, &#x27;PREV_AMT_CREDIT_MIN&#x27;, &#x27;PREV_AMT_CREDIT_MAX&#x27;, &#x27;PREV_AMT_CREDIT_MEAN&#x27;, &#x27;PREV_APP_CREDIT_PERC_MIN&#x27;, &#x27;PREV_APP_CREDIT_PERC_MAX&#x27;, &#x27;PREV_APP_CREDIT_PERC_MEAN&#x27;, &#x27;PREV_APP_CREDIT_PERC_VAR&#x27;, &#x27;PREV_AMT_DOWN_PAYMENT_MIN&#x27;, &#x27;PREV_AMT_DOWN_PAYMENT_MAX&#x27;, &#x27;PREV_AMT_DOWN_PAYMENT_MEAN&#x27;, &#x27;PREV_AMT_GOODS_PRICE_MIN&#x27;, &#x27;PREV_AMT_GOODS_PRICE_MAX&#x27;, &#x27;PREV_AMT_GOODS_PRICE_MEAN&#x27;, &#x27;PREV_HOUR_APPR_PROCESS_START_MIN&#x27;, &#x27;PREV_HOUR_APPR_PROCESS_START_MAX&#x27;, &#x27;PREV_HOUR_APPR_PROCESS_START_MEAN&#x27;, &#x27;PREV_RATE_DOWN_PAYMENT_MIN&#x27;, &#x27;PREV_RATE_DOWN_PAYMENT_MAX&#x27;, &#x27;PREV_RATE_DOWN_PAYMENT_MEAN&#x27;, &#x27;PREV_DAYS_DECISION_MIN&#x27;, &#x27;PREV_DAYS_DECISION_MAX&#x27;, &#x27;PREV_DAYS_DECISION_MEAN&#x27;, &#x27;PREV_CNT_PAYMENT_MEAN&#x27;, &#x27;PREV_CNT_PAYMENT_SUM&#x27;, &#x27;POS_MONTHS_BALANCE_MAX&#x27;, &#x27;POS_MONTHS_BALANCE_MEAN&#x27;, &#x27;POS_MONTHS_BALANCE_SIZE&#x27;, &#x27;POS_SK_DPD_MAX&#x27;, &#x27;POS_SK_DPD_MEAN&#x27;, &#x27;POS_SK_DPD_DEF_MAX&#x27;, &#x27;POS_SK_DPD_DEF_MEAN&#x27;, &#x27;POS_COUNT&#x27;, &#x27;INSTAL_NUM_INSTALMENT_VERSION_NUNIQUE&#x27;, &#x27;INSTAL_DPD_MAX&#x27;, &#x27;INSTAL_DPD_MEAN&#x27;, &#x27;INSTAL_DPD_SUM&#x27;, &#x27;INSTAL_DBD_MAX&#x27;, &#x27;INSTAL_DBD_MEAN&#x27;, &#x27;INSTAL_DBD_SUM&#x27;, &#x27;INSTAL_PAYMENT_PERC_MAX&#x27;, &#x27;INSTAL_PAYMENT_PERC_MEAN&#x27;, &#x27;INSTAL_PAYMENT_PERC_SUM&#x27;, &#x27;INSTAL_PAYMENT_PERC_VAR&#x27;, &#x27;INSTAL_PAYMENT_DIFF_MAX&#x27;, &#x27;INSTAL_PAYMENT_DIFF_MEAN&#x27;, &#x27;INSTAL_PAYMENT_DIFF_SUM&#x27;, &#x27;INSTAL_PAYMENT_DIFF_VAR&#x27;, &#x27;INSTAL_AMT_INSTALMENT_MAX&#x27;, &#x27;INSTAL_AMT_INSTALMENT_MEAN&#x27;, &#x27;INSTAL_AMT_INSTALMENT_SUM&#x27;, &#x27;INSTAL_AMT_PAYMENT_MIN&#x27;, &#x27;INSTAL_AMT_PAYMENT_MAX&#x27;, &#x27;INSTAL_AMT_PAYMENT_MEAN&#x27;, &#x27;INSTAL_AMT_PAYMENT_SUM&#x27;, &#x27;INSTAL_DAYS_ENTRY_PAYMENT_MAX&#x27;, &#x27;INSTAL_DAYS_ENTRY_PAYMENT_MEAN&#x27;, &#x27;INSTAL_DAYS_ENTRY_PAYMENT_SUM&#x27;, &#x27;INSTAL_COUNT&#x27;]</pre></div></div></div><div class=\"sk-serial\"><div class=\"sk-item\"><div class=\"sk-serial\"><div class=\"sk-item\"><div class=\"sk-estimator sk-toggleable\"><input class=\"sk-toggleable__control sk-hidden--visually\" id=\"sk-estimator-id-4\" type=\"checkbox\" ><label for=\"sk-estimator-id-4\" class=\"sk-toggleable__label sk-toggleable__label-arrow\">SimpleImputer</label><div class=\"sk-toggleable__content\"><pre>SimpleImputer(strategy=&#x27;median&#x27;)</pre></div></div></div><div class=\"sk-item\"><div class=\"sk-estimator sk-toggleable\"><input class=\"sk-toggleable__control sk-hidden--visually\" id=\"sk-estimator-id-5\" type=\"checkbox\" ><label for=\"sk-estimator-id-5\" class=\"sk-toggleable__label sk-toggleable__label-arrow\">StandardScaler</label><div class=\"sk-toggleable__content\"><pre>StandardScaler()</pre></div></div></div></div></div></div></div></div></div></div><div class=\"sk-item\"><div class=\"sk-estimator sk-toggleable\"><input class=\"sk-toggleable__control sk-hidden--visually\" id=\"sk-estimator-id-6\" type=\"checkbox\" ><label for=\"sk-estimator-id-6\" class=\"sk-toggleable__label sk-toggleable__label-arrow\">DummyClassifier</label><div class=\"sk-toggleable__content\"><pre>DummyClassifier(constant=0, strategy=&#x27;constant&#x27;)</pre></div></div></div></div></div></div></div>"
      ],
      "text/plain": [
       "Pipeline(steps=[('preprocessor',\n",
       "                 ColumnTransformer(transformers=[('num',\n",
       "                                                  Pipeline(steps=[('imputer',\n",
       "                                                                   SimpleImputer(strategy='median')),\n",
       "                                                                  ('scaler',\n",
       "                                                                   StandardScaler())]),\n",
       "                                                  ['CODE_GENDER',\n",
       "                                                   'FLAG_OWN_CAR',\n",
       "                                                   'FLAG_OWN_REALTY',\n",
       "                                                   'CNT_CHILDREN',\n",
       "                                                   'AMT_INCOME_TOTAL',\n",
       "                                                   'AMT_CREDIT', 'AMT_ANNUITY',\n",
       "                                                   'AMT_GOODS_PRICE',\n",
       "                                                   'REGION_POPULATION_RELATIVE',\n",
       "                                                   'DAYS_BIRTH',\n",
       "                                                   'DAYS_EMPLOYED',\n",
       "                                                   'DA...\n",
       "                                                   'FLAG_PHONE', 'FLAG_EMAIL',\n",
       "                                                   'CNT_FAM_MEMBERS',\n",
       "                                                   'REGION_RATING_CLIENT',\n",
       "                                                   'REGION_RATING_CLIENT_W_CITY',\n",
       "                                                   'HOUR_APPR_PROCESS_START',\n",
       "                                                   'REG_REGION_NOT_LIVE_REGION',\n",
       "                                                   'REG_REGION_NOT_WORK_REGION',\n",
       "                                                   'LIVE_REGION_NOT_WORK_REGION',\n",
       "                                                   'REG_CITY_NOT_LIVE_CITY',\n",
       "                                                   'REG_CITY_NOT_WORK_CITY',\n",
       "                                                   'LIVE_CITY_NOT_WORK_CITY',\n",
       "                                                   'EXT_SOURCE_2', ...])])),\n",
       "                ('classifier',\n",
       "                 DummyClassifier(constant=0, strategy='constant'))])"
      ]
     },
     "execution_count": 19,
     "metadata": {},
     "output_type": "execute_result"
    }
   ],
   "source": [
    "clfD.fit(X_train_res,y_train_res)"
   ]
  },
  {
   "cell_type": "code",
   "execution_count": 20,
   "id": "6c8aee63",
   "metadata": {},
   "outputs": [
    {
     "data": {
      "text/html": [
       "<style>#sk-container-id-2 {color: black;background-color: white;}#sk-container-id-2 pre{padding: 0;}#sk-container-id-2 div.sk-toggleable {background-color: white;}#sk-container-id-2 label.sk-toggleable__label {cursor: pointer;display: block;width: 100%;margin-bottom: 0;padding: 0.3em;box-sizing: border-box;text-align: center;}#sk-container-id-2 label.sk-toggleable__label-arrow:before {content: \"▸\";float: left;margin-right: 0.25em;color: #696969;}#sk-container-id-2 label.sk-toggleable__label-arrow:hover:before {color: black;}#sk-container-id-2 div.sk-estimator:hover label.sk-toggleable__label-arrow:before {color: black;}#sk-container-id-2 div.sk-toggleable__content {max-height: 0;max-width: 0;overflow: hidden;text-align: left;background-color: #f0f8ff;}#sk-container-id-2 div.sk-toggleable__content pre {margin: 0.2em;color: black;border-radius: 0.25em;background-color: #f0f8ff;}#sk-container-id-2 input.sk-toggleable__control:checked~div.sk-toggleable__content {max-height: 200px;max-width: 100%;overflow: auto;}#sk-container-id-2 input.sk-toggleable__control:checked~label.sk-toggleable__label-arrow:before {content: \"▾\";}#sk-container-id-2 div.sk-estimator input.sk-toggleable__control:checked~label.sk-toggleable__label {background-color: #d4ebff;}#sk-container-id-2 div.sk-label input.sk-toggleable__control:checked~label.sk-toggleable__label {background-color: #d4ebff;}#sk-container-id-2 input.sk-hidden--visually {border: 0;clip: rect(1px 1px 1px 1px);clip: rect(1px, 1px, 1px, 1px);height: 1px;margin: -1px;overflow: hidden;padding: 0;position: absolute;width: 1px;}#sk-container-id-2 div.sk-estimator {font-family: monospace;background-color: #f0f8ff;border: 1px dotted black;border-radius: 0.25em;box-sizing: border-box;margin-bottom: 0.5em;}#sk-container-id-2 div.sk-estimator:hover {background-color: #d4ebff;}#sk-container-id-2 div.sk-parallel-item::after {content: \"\";width: 100%;border-bottom: 1px solid gray;flex-grow: 1;}#sk-container-id-2 div.sk-label:hover label.sk-toggleable__label {background-color: #d4ebff;}#sk-container-id-2 div.sk-serial::before {content: \"\";position: absolute;border-left: 1px solid gray;box-sizing: border-box;top: 0;bottom: 0;left: 50%;z-index: 0;}#sk-container-id-2 div.sk-serial {display: flex;flex-direction: column;align-items: center;background-color: white;padding-right: 0.2em;padding-left: 0.2em;position: relative;}#sk-container-id-2 div.sk-item {position: relative;z-index: 1;}#sk-container-id-2 div.sk-parallel {display: flex;align-items: stretch;justify-content: center;background-color: white;position: relative;}#sk-container-id-2 div.sk-item::before, #sk-container-id-2 div.sk-parallel-item::before {content: \"\";position: absolute;border-left: 1px solid gray;box-sizing: border-box;top: 0;bottom: 0;left: 50%;z-index: -1;}#sk-container-id-2 div.sk-parallel-item {display: flex;flex-direction: column;z-index: 1;position: relative;background-color: white;}#sk-container-id-2 div.sk-parallel-item:first-child::after {align-self: flex-end;width: 50%;}#sk-container-id-2 div.sk-parallel-item:last-child::after {align-self: flex-start;width: 50%;}#sk-container-id-2 div.sk-parallel-item:only-child::after {width: 0;}#sk-container-id-2 div.sk-dashed-wrapped {border: 1px dashed gray;margin: 0 0.4em 0.5em 0.4em;box-sizing: border-box;padding-bottom: 0.4em;background-color: white;}#sk-container-id-2 div.sk-label label {font-family: monospace;font-weight: bold;display: inline-block;line-height: 1.2em;}#sk-container-id-2 div.sk-label-container {text-align: center;}#sk-container-id-2 div.sk-container {/* jupyter's `normalize.less` sets `[hidden] { display: none; }` but bootstrap.min.css set `[hidden] { display: none !important; }` so we also need the `!important` here to be able to override the default hidden behavior on the sphinx rendered scikit-learn.org. See: https://github.com/scikit-learn/scikit-learn/issues/21755 */display: inline-block !important;position: relative;}#sk-container-id-2 div.sk-text-repr-fallback {display: none;}</style><div id=\"sk-container-id-2\" class=\"sk-top-container\"><div class=\"sk-text-repr-fallback\"><pre>Pipeline(steps=[(&#x27;preprocessor&#x27;,\n",
       "                 ColumnTransformer(transformers=[(&#x27;num&#x27;,\n",
       "                                                  Pipeline(steps=[(&#x27;imputer&#x27;,\n",
       "                                                                   SimpleImputer(strategy=&#x27;median&#x27;)),\n",
       "                                                                  (&#x27;scaler&#x27;,\n",
       "                                                                   StandardScaler())]),\n",
       "                                                  [&#x27;CODE_GENDER&#x27;,\n",
       "                                                   &#x27;FLAG_OWN_CAR&#x27;,\n",
       "                                                   &#x27;FLAG_OWN_REALTY&#x27;,\n",
       "                                                   &#x27;CNT_CHILDREN&#x27;,\n",
       "                                                   &#x27;AMT_INCOME_TOTAL&#x27;,\n",
       "                                                   &#x27;AMT_CREDIT&#x27;, &#x27;AMT_ANNUITY&#x27;,\n",
       "                                                   &#x27;AMT_GOODS_PRICE&#x27;,\n",
       "                                                   &#x27;REGION_POPULATION_RELATIVE&#x27;,\n",
       "                                                   &#x27;DAYS_BIRTH&#x27;,\n",
       "                                                   &#x27;DAYS_EMPLOYED&#x27;,\n",
       "                                                   &#x27;DA...\n",
       "                                                   &#x27;REG_CITY_NOT_LIVE_CITY&#x27;,\n",
       "                                                   &#x27;REG_CITY_NOT_WORK_CITY&#x27;,\n",
       "                                                   &#x27;LIVE_CITY_NOT_WORK_CITY&#x27;,\n",
       "                                                   &#x27;EXT_SOURCE_2&#x27;, ...])])),\n",
       "                (&#x27;classifier&#x27;,\n",
       "                 LGBMClassifier(colsample_bytree=0.9497036, learning_rate=0.02,\n",
       "                                max_depth=8, min_child_weight=39.3259775,\n",
       "                                min_split_gain=0.0222415, n_estimators=10000,\n",
       "                                nthread=4, num_leaves=34, reg_alpha=0.041545473,\n",
       "                                reg_lambda=0.0735294, subsample=0.8715623,\n",
       "                                verbose=-1))])</pre><b>In a Jupyter environment, please rerun this cell to show the HTML representation or trust the notebook. <br />On GitHub, the HTML representation is unable to render, please try loading this page with nbviewer.org.</b></div><div class=\"sk-container\" hidden><div class=\"sk-item sk-dashed-wrapped\"><div class=\"sk-label-container\"><div class=\"sk-label sk-toggleable\"><input class=\"sk-toggleable__control sk-hidden--visually\" id=\"sk-estimator-id-7\" type=\"checkbox\" ><label for=\"sk-estimator-id-7\" class=\"sk-toggleable__label sk-toggleable__label-arrow\">Pipeline</label><div class=\"sk-toggleable__content\"><pre>Pipeline(steps=[(&#x27;preprocessor&#x27;,\n",
       "                 ColumnTransformer(transformers=[(&#x27;num&#x27;,\n",
       "                                                  Pipeline(steps=[(&#x27;imputer&#x27;,\n",
       "                                                                   SimpleImputer(strategy=&#x27;median&#x27;)),\n",
       "                                                                  (&#x27;scaler&#x27;,\n",
       "                                                                   StandardScaler())]),\n",
       "                                                  [&#x27;CODE_GENDER&#x27;,\n",
       "                                                   &#x27;FLAG_OWN_CAR&#x27;,\n",
       "                                                   &#x27;FLAG_OWN_REALTY&#x27;,\n",
       "                                                   &#x27;CNT_CHILDREN&#x27;,\n",
       "                                                   &#x27;AMT_INCOME_TOTAL&#x27;,\n",
       "                                                   &#x27;AMT_CREDIT&#x27;, &#x27;AMT_ANNUITY&#x27;,\n",
       "                                                   &#x27;AMT_GOODS_PRICE&#x27;,\n",
       "                                                   &#x27;REGION_POPULATION_RELATIVE&#x27;,\n",
       "                                                   &#x27;DAYS_BIRTH&#x27;,\n",
       "                                                   &#x27;DAYS_EMPLOYED&#x27;,\n",
       "                                                   &#x27;DA...\n",
       "                                                   &#x27;REG_CITY_NOT_LIVE_CITY&#x27;,\n",
       "                                                   &#x27;REG_CITY_NOT_WORK_CITY&#x27;,\n",
       "                                                   &#x27;LIVE_CITY_NOT_WORK_CITY&#x27;,\n",
       "                                                   &#x27;EXT_SOURCE_2&#x27;, ...])])),\n",
       "                (&#x27;classifier&#x27;,\n",
       "                 LGBMClassifier(colsample_bytree=0.9497036, learning_rate=0.02,\n",
       "                                max_depth=8, min_child_weight=39.3259775,\n",
       "                                min_split_gain=0.0222415, n_estimators=10000,\n",
       "                                nthread=4, num_leaves=34, reg_alpha=0.041545473,\n",
       "                                reg_lambda=0.0735294, subsample=0.8715623,\n",
       "                                verbose=-1))])</pre></div></div></div><div class=\"sk-serial\"><div class=\"sk-item sk-dashed-wrapped\"><div class=\"sk-label-container\"><div class=\"sk-label sk-toggleable\"><input class=\"sk-toggleable__control sk-hidden--visually\" id=\"sk-estimator-id-8\" type=\"checkbox\" ><label for=\"sk-estimator-id-8\" class=\"sk-toggleable__label sk-toggleable__label-arrow\">preprocessor: ColumnTransformer</label><div class=\"sk-toggleable__content\"><pre>ColumnTransformer(transformers=[(&#x27;num&#x27;,\n",
       "                                 Pipeline(steps=[(&#x27;imputer&#x27;,\n",
       "                                                  SimpleImputer(strategy=&#x27;median&#x27;)),\n",
       "                                                 (&#x27;scaler&#x27;, StandardScaler())]),\n",
       "                                 [&#x27;CODE_GENDER&#x27;, &#x27;FLAG_OWN_CAR&#x27;,\n",
       "                                  &#x27;FLAG_OWN_REALTY&#x27;, &#x27;CNT_CHILDREN&#x27;,\n",
       "                                  &#x27;AMT_INCOME_TOTAL&#x27;, &#x27;AMT_CREDIT&#x27;,\n",
       "                                  &#x27;AMT_ANNUITY&#x27;, &#x27;AMT_GOODS_PRICE&#x27;,\n",
       "                                  &#x27;REGION_POPULATION_RELATIVE&#x27;, &#x27;DAYS_BIRTH&#x27;,\n",
       "                                  &#x27;DAYS_EMPLOYED&#x27;, &#x27;DAYS_REGISTRATION&#x27;,\n",
       "                                  &#x27;DAYS_ID_PUBLIS...\n",
       "                                  &#x27;FLAG_EMP_PHONE&#x27;, &#x27;FLAG_WORK_PHONE&#x27;,\n",
       "                                  &#x27;FLAG_CONT_MOBILE&#x27;, &#x27;FLAG_PHONE&#x27;,\n",
       "                                  &#x27;FLAG_EMAIL&#x27;, &#x27;CNT_FAM_MEMBERS&#x27;,\n",
       "                                  &#x27;REGION_RATING_CLIENT&#x27;,\n",
       "                                  &#x27;REGION_RATING_CLIENT_W_CITY&#x27;,\n",
       "                                  &#x27;HOUR_APPR_PROCESS_START&#x27;,\n",
       "                                  &#x27;REG_REGION_NOT_LIVE_REGION&#x27;,\n",
       "                                  &#x27;REG_REGION_NOT_WORK_REGION&#x27;,\n",
       "                                  &#x27;LIVE_REGION_NOT_WORK_REGION&#x27;,\n",
       "                                  &#x27;REG_CITY_NOT_LIVE_CITY&#x27;,\n",
       "                                  &#x27;REG_CITY_NOT_WORK_CITY&#x27;,\n",
       "                                  &#x27;LIVE_CITY_NOT_WORK_CITY&#x27;, &#x27;EXT_SOURCE_2&#x27;, ...])])</pre></div></div></div><div class=\"sk-parallel\"><div class=\"sk-parallel-item\"><div class=\"sk-item\"><div class=\"sk-label-container\"><div class=\"sk-label sk-toggleable\"><input class=\"sk-toggleable__control sk-hidden--visually\" id=\"sk-estimator-id-9\" type=\"checkbox\" ><label for=\"sk-estimator-id-9\" class=\"sk-toggleable__label sk-toggleable__label-arrow\">num</label><div class=\"sk-toggleable__content\"><pre>[&#x27;CODE_GENDER&#x27;, &#x27;FLAG_OWN_CAR&#x27;, &#x27;FLAG_OWN_REALTY&#x27;, &#x27;CNT_CHILDREN&#x27;, &#x27;AMT_INCOME_TOTAL&#x27;, &#x27;AMT_CREDIT&#x27;, &#x27;AMT_ANNUITY&#x27;, &#x27;AMT_GOODS_PRICE&#x27;, &#x27;REGION_POPULATION_RELATIVE&#x27;, &#x27;DAYS_BIRTH&#x27;, &#x27;DAYS_EMPLOYED&#x27;, &#x27;DAYS_REGISTRATION&#x27;, &#x27;DAYS_ID_PUBLISH&#x27;, &#x27;FLAG_MOBIL&#x27;, &#x27;FLAG_EMP_PHONE&#x27;, &#x27;FLAG_WORK_PHONE&#x27;, &#x27;FLAG_CONT_MOBILE&#x27;, &#x27;FLAG_PHONE&#x27;, &#x27;FLAG_EMAIL&#x27;, &#x27;CNT_FAM_MEMBERS&#x27;, &#x27;REGION_RATING_CLIENT&#x27;, &#x27;REGION_RATING_CLIENT_W_CITY&#x27;, &#x27;HOUR_APPR_PROCESS_START&#x27;, &#x27;REG_REGION_NOT_LIVE_REGION&#x27;, &#x27;REG_REGION_NOT_WORK_REGION&#x27;, &#x27;LIVE_REGION_NOT_WORK_REGION&#x27;, &#x27;REG_CITY_NOT_LIVE_CITY&#x27;, &#x27;REG_CITY_NOT_WORK_CITY&#x27;, &#x27;LIVE_CITY_NOT_WORK_CITY&#x27;, &#x27;EXT_SOURCE_2&#x27;, &#x27;EXT_SOURCE_3&#x27;, &#x27;YEARS_BEGINEXPLUATATION_AVG&#x27;, &#x27;FLOORSMAX_AVG&#x27;, &#x27;YEARS_BEGINEXPLUATATION_MODE&#x27;, &#x27;FLOORSMAX_MODE&#x27;, &#x27;YEARS_BEGINEXPLUATATION_MEDI&#x27;, &#x27;FLOORSMAX_MEDI&#x27;, &#x27;TOTALAREA_MODE&#x27;, &#x27;OBS_30_CNT_SOCIAL_CIRCLE&#x27;, &#x27;DEF_30_CNT_SOCIAL_CIRCLE&#x27;, &#x27;OBS_60_CNT_SOCIAL_CIRCLE&#x27;, &#x27;DEF_60_CNT_SOCIAL_CIRCLE&#x27;, &#x27;DAYS_LAST_PHONE_CHANGE&#x27;, &#x27;FLAG_DOCUMENT_2&#x27;, &#x27;FLAG_DOCUMENT_3&#x27;, &#x27;FLAG_DOCUMENT_4&#x27;, &#x27;FLAG_DOCUMENT_5&#x27;, &#x27;FLAG_DOCUMENT_6&#x27;, &#x27;FLAG_DOCUMENT_7&#x27;, &#x27;FLAG_DOCUMENT_8&#x27;, &#x27;FLAG_DOCUMENT_9&#x27;, &#x27;FLAG_DOCUMENT_10&#x27;, &#x27;FLAG_DOCUMENT_11&#x27;, &#x27;FLAG_DOCUMENT_12&#x27;, &#x27;FLAG_DOCUMENT_13&#x27;, &#x27;FLAG_DOCUMENT_14&#x27;, &#x27;FLAG_DOCUMENT_15&#x27;, &#x27;FLAG_DOCUMENT_16&#x27;, &#x27;FLAG_DOCUMENT_17&#x27;, &#x27;FLAG_DOCUMENT_18&#x27;, &#x27;FLAG_DOCUMENT_19&#x27;, &#x27;FLAG_DOCUMENT_20&#x27;, &#x27;FLAG_DOCUMENT_21&#x27;, &#x27;AMT_REQ_CREDIT_BUREAU_HOUR&#x27;, &#x27;AMT_REQ_CREDIT_BUREAU_DAY&#x27;, &#x27;AMT_REQ_CREDIT_BUREAU_WEEK&#x27;, &#x27;AMT_REQ_CREDIT_BUREAU_MON&#x27;, &#x27;AMT_REQ_CREDIT_BUREAU_QRT&#x27;, &#x27;AMT_REQ_CREDIT_BUREAU_YEAR&#x27;, &#x27;DAYS_EMPLOYED_PERC&#x27;, &#x27;INCOME_CREDIT_PERC&#x27;, &#x27;INCOME_PER_PERSON&#x27;, &#x27;ANNUITY_INCOME_PERC&#x27;, &#x27;PAYMENT_RATE&#x27;, &#x27;BURO_DAYS_CREDIT_MIN&#x27;, &#x27;BURO_DAYS_CREDIT_MAX&#x27;, &#x27;BURO_DAYS_CREDIT_MEAN&#x27;, &#x27;BURO_DAYS_CREDIT_VAR&#x27;, &#x27;BURO_DAYS_CREDIT_ENDDATE_MIN&#x27;, &#x27;BURO_DAYS_CREDIT_ENDDATE_MAX&#x27;, &#x27;BURO_DAYS_CREDIT_ENDDATE_MEAN&#x27;, &#x27;BURO_DAYS_CREDIT_UPDATE_MEAN&#x27;, &#x27;BURO_CREDIT_DAY_OVERDUE_MAX&#x27;, &#x27;BURO_CREDIT_DAY_OVERDUE_MEAN&#x27;, &#x27;BURO_AMT_CREDIT_MAX_OVERDUE_MEAN&#x27;, &#x27;BURO_AMT_CREDIT_SUM_MAX&#x27;, &#x27;BURO_AMT_CREDIT_SUM_MEAN&#x27;, &#x27;BURO_AMT_CREDIT_SUM_SUM&#x27;, &#x27;BURO_AMT_CREDIT_SUM_DEBT_MAX&#x27;, &#x27;BURO_AMT_CREDIT_SUM_DEBT_MEAN&#x27;, &#x27;BURO_AMT_CREDIT_SUM_DEBT_SUM&#x27;, &#x27;BURO_AMT_CREDIT_SUM_OVERDUE_MEAN&#x27;, &#x27;BURO_AMT_CREDIT_SUM_LIMIT_MEAN&#x27;, &#x27;BURO_AMT_CREDIT_SUM_LIMIT_SUM&#x27;, &#x27;BURO_CNT_CREDIT_PROLONG_SUM&#x27;, &#x27;BURO_MONTHS_BALANCE_SIZE_SUM&#x27;, &#x27;PREV_AMT_ANNUITY_MIN&#x27;, &#x27;PREV_AMT_ANNUITY_MAX&#x27;, &#x27;PREV_AMT_ANNUITY_MEAN&#x27;, &#x27;PREV_AMT_APPLICATION_MIN&#x27;, &#x27;PREV_AMT_APPLICATION_MAX&#x27;, &#x27;PREV_AMT_APPLICATION_MEAN&#x27;, &#x27;PREV_AMT_CREDIT_MIN&#x27;, &#x27;PREV_AMT_CREDIT_MAX&#x27;, &#x27;PREV_AMT_CREDIT_MEAN&#x27;, &#x27;PREV_APP_CREDIT_PERC_MIN&#x27;, &#x27;PREV_APP_CREDIT_PERC_MAX&#x27;, &#x27;PREV_APP_CREDIT_PERC_MEAN&#x27;, &#x27;PREV_APP_CREDIT_PERC_VAR&#x27;, &#x27;PREV_AMT_DOWN_PAYMENT_MIN&#x27;, &#x27;PREV_AMT_DOWN_PAYMENT_MAX&#x27;, &#x27;PREV_AMT_DOWN_PAYMENT_MEAN&#x27;, &#x27;PREV_AMT_GOODS_PRICE_MIN&#x27;, &#x27;PREV_AMT_GOODS_PRICE_MAX&#x27;, &#x27;PREV_AMT_GOODS_PRICE_MEAN&#x27;, &#x27;PREV_HOUR_APPR_PROCESS_START_MIN&#x27;, &#x27;PREV_HOUR_APPR_PROCESS_START_MAX&#x27;, &#x27;PREV_HOUR_APPR_PROCESS_START_MEAN&#x27;, &#x27;PREV_RATE_DOWN_PAYMENT_MIN&#x27;, &#x27;PREV_RATE_DOWN_PAYMENT_MAX&#x27;, &#x27;PREV_RATE_DOWN_PAYMENT_MEAN&#x27;, &#x27;PREV_DAYS_DECISION_MIN&#x27;, &#x27;PREV_DAYS_DECISION_MAX&#x27;, &#x27;PREV_DAYS_DECISION_MEAN&#x27;, &#x27;PREV_CNT_PAYMENT_MEAN&#x27;, &#x27;PREV_CNT_PAYMENT_SUM&#x27;, &#x27;POS_MONTHS_BALANCE_MAX&#x27;, &#x27;POS_MONTHS_BALANCE_MEAN&#x27;, &#x27;POS_MONTHS_BALANCE_SIZE&#x27;, &#x27;POS_SK_DPD_MAX&#x27;, &#x27;POS_SK_DPD_MEAN&#x27;, &#x27;POS_SK_DPD_DEF_MAX&#x27;, &#x27;POS_SK_DPD_DEF_MEAN&#x27;, &#x27;POS_COUNT&#x27;, &#x27;INSTAL_NUM_INSTALMENT_VERSION_NUNIQUE&#x27;, &#x27;INSTAL_DPD_MAX&#x27;, &#x27;INSTAL_DPD_MEAN&#x27;, &#x27;INSTAL_DPD_SUM&#x27;, &#x27;INSTAL_DBD_MAX&#x27;, &#x27;INSTAL_DBD_MEAN&#x27;, &#x27;INSTAL_DBD_SUM&#x27;, &#x27;INSTAL_PAYMENT_PERC_MAX&#x27;, &#x27;INSTAL_PAYMENT_PERC_MEAN&#x27;, &#x27;INSTAL_PAYMENT_PERC_SUM&#x27;, &#x27;INSTAL_PAYMENT_PERC_VAR&#x27;, &#x27;INSTAL_PAYMENT_DIFF_MAX&#x27;, &#x27;INSTAL_PAYMENT_DIFF_MEAN&#x27;, &#x27;INSTAL_PAYMENT_DIFF_SUM&#x27;, &#x27;INSTAL_PAYMENT_DIFF_VAR&#x27;, &#x27;INSTAL_AMT_INSTALMENT_MAX&#x27;, &#x27;INSTAL_AMT_INSTALMENT_MEAN&#x27;, &#x27;INSTAL_AMT_INSTALMENT_SUM&#x27;, &#x27;INSTAL_AMT_PAYMENT_MIN&#x27;, &#x27;INSTAL_AMT_PAYMENT_MAX&#x27;, &#x27;INSTAL_AMT_PAYMENT_MEAN&#x27;, &#x27;INSTAL_AMT_PAYMENT_SUM&#x27;, &#x27;INSTAL_DAYS_ENTRY_PAYMENT_MAX&#x27;, &#x27;INSTAL_DAYS_ENTRY_PAYMENT_MEAN&#x27;, &#x27;INSTAL_DAYS_ENTRY_PAYMENT_SUM&#x27;, &#x27;INSTAL_COUNT&#x27;]</pre></div></div></div><div class=\"sk-serial\"><div class=\"sk-item\"><div class=\"sk-serial\"><div class=\"sk-item\"><div class=\"sk-estimator sk-toggleable\"><input class=\"sk-toggleable__control sk-hidden--visually\" id=\"sk-estimator-id-10\" type=\"checkbox\" ><label for=\"sk-estimator-id-10\" class=\"sk-toggleable__label sk-toggleable__label-arrow\">SimpleImputer</label><div class=\"sk-toggleable__content\"><pre>SimpleImputer(strategy=&#x27;median&#x27;)</pre></div></div></div><div class=\"sk-item\"><div class=\"sk-estimator sk-toggleable\"><input class=\"sk-toggleable__control sk-hidden--visually\" id=\"sk-estimator-id-11\" type=\"checkbox\" ><label for=\"sk-estimator-id-11\" class=\"sk-toggleable__label sk-toggleable__label-arrow\">StandardScaler</label><div class=\"sk-toggleable__content\"><pre>StandardScaler()</pre></div></div></div></div></div></div></div></div></div></div><div class=\"sk-item\"><div class=\"sk-estimator sk-toggleable\"><input class=\"sk-toggleable__control sk-hidden--visually\" id=\"sk-estimator-id-12\" type=\"checkbox\" ><label for=\"sk-estimator-id-12\" class=\"sk-toggleable__label sk-toggleable__label-arrow\">LGBMClassifier</label><div class=\"sk-toggleable__content\"><pre>LGBMClassifier(colsample_bytree=0.9497036, learning_rate=0.02, max_depth=8,\n",
       "               min_child_weight=39.3259775, min_split_gain=0.0222415,\n",
       "               n_estimators=10000, nthread=4, num_leaves=34,\n",
       "               reg_alpha=0.041545473, reg_lambda=0.0735294, subsample=0.8715623,\n",
       "               verbose=-1)</pre></div></div></div></div></div></div></div>"
      ],
      "text/plain": [
       "Pipeline(steps=[('preprocessor',\n",
       "                 ColumnTransformer(transformers=[('num',\n",
       "                                                  Pipeline(steps=[('imputer',\n",
       "                                                                   SimpleImputer(strategy='median')),\n",
       "                                                                  ('scaler',\n",
       "                                                                   StandardScaler())]),\n",
       "                                                  ['CODE_GENDER',\n",
       "                                                   'FLAG_OWN_CAR',\n",
       "                                                   'FLAG_OWN_REALTY',\n",
       "                                                   'CNT_CHILDREN',\n",
       "                                                   'AMT_INCOME_TOTAL',\n",
       "                                                   'AMT_CREDIT', 'AMT_ANNUITY',\n",
       "                                                   'AMT_GOODS_PRICE',\n",
       "                                                   'REGION_POPULATION_RELATIVE',\n",
       "                                                   'DAYS_BIRTH',\n",
       "                                                   'DAYS_EMPLOYED',\n",
       "                                                   'DA...\n",
       "                                                   'REG_CITY_NOT_LIVE_CITY',\n",
       "                                                   'REG_CITY_NOT_WORK_CITY',\n",
       "                                                   'LIVE_CITY_NOT_WORK_CITY',\n",
       "                                                   'EXT_SOURCE_2', ...])])),\n",
       "                ('classifier',\n",
       "                 LGBMClassifier(colsample_bytree=0.9497036, learning_rate=0.02,\n",
       "                                max_depth=8, min_child_weight=39.3259775,\n",
       "                                min_split_gain=0.0222415, n_estimators=10000,\n",
       "                                nthread=4, num_leaves=34, reg_alpha=0.041545473,\n",
       "                                reg_lambda=0.0735294, subsample=0.8715623,\n",
       "                                verbose=-1))])"
      ]
     },
     "execution_count": 20,
     "metadata": {},
     "output_type": "execute_result"
    }
   ],
   "source": [
    "clfP.fit(X_train_res,y_train_res)"
   ]
  },
  {
   "cell_type": "markdown",
   "id": "c6e642b2",
   "metadata": {},
   "source": [
    "### Evaluating the models"
   ]
  },
  {
   "cell_type": "raw",
   "id": "e3981036",
   "metadata": {},
   "source": [
    "ypred_testD=clfD.predict(X_test).tolist()"
   ]
  },
  {
   "cell_type": "raw",
   "id": "0b15f514",
   "metadata": {},
   "source": [
    "ypred_test=clfP.predict(X_test).tolist()"
   ]
  },
  {
   "cell_type": "code",
   "execution_count": 23,
   "id": "90372abf",
   "metadata": {},
   "outputs": [
    {
     "name": "stdout",
     "output_type": "stream",
     "text": [
      "              precision    recall  f1-score   support\n",
      "\n",
      "         0.0       0.93      1.00      0.97      9848\n",
      "         1.0       0.00      0.00      0.00       708\n",
      "\n",
      "    accuracy                           0.93     10556\n",
      "   macro avg       0.47      0.50      0.48     10556\n",
      "weighted avg       0.87      0.93      0.90     10556\n",
      "\n"
     ]
    },
    {
     "name": "stderr",
     "output_type": "stream",
     "text": [
      "C:\\Users\\olga\\AppData\\Local\\Programs\\Python\\Python310\\lib\\site-packages\\sklearn\\metrics\\_classification.py:1327: UndefinedMetricWarning: Precision and F-score are ill-defined and being set to 0.0 in labels with no predicted samples. Use `zero_division` parameter to control this behavior.\n",
      "  _warn_prf(average, modifier, msg_start, len(result))\n",
      "C:\\Users\\olga\\AppData\\Local\\Programs\\Python\\Python310\\lib\\site-packages\\sklearn\\metrics\\_classification.py:1327: UndefinedMetricWarning: Precision and F-score are ill-defined and being set to 0.0 in labels with no predicted samples. Use `zero_division` parameter to control this behavior.\n",
      "  _warn_prf(average, modifier, msg_start, len(result))\n",
      "C:\\Users\\olga\\AppData\\Local\\Programs\\Python\\Python310\\lib\\site-packages\\sklearn\\metrics\\_classification.py:1327: UndefinedMetricWarning: Precision and F-score are ill-defined and being set to 0.0 in labels with no predicted samples. Use `zero_division` parameter to control this behavior.\n",
      "  _warn_prf(average, modifier, msg_start, len(result))\n"
     ]
    }
   ],
   "source": [
    "print(sklearn.metrics.classification_report(y_test, ypred_testD))#DuumyClassifier predicting 0 class metrics"
   ]
  },
  {
   "cell_type": "code",
   "execution_count": 24,
   "id": "17d37d45",
   "metadata": {},
   "outputs": [
    {
     "name": "stdout",
     "output_type": "stream",
     "text": [
      "              precision    recall  f1-score   support\n",
      "\n",
      "         0.0       0.98      1.00      0.99      9848\n",
      "         1.0       0.96      0.69      0.81       708\n",
      "\n",
      "    accuracy                           0.98     10556\n",
      "   macro avg       0.97      0.85      0.90     10556\n",
      "weighted avg       0.98      0.98      0.98     10556\n",
      "\n"
     ]
    }
   ],
   "source": [
    "print(sklearn.metrics.classification_report(y_test, ypred_test))#LGBM classifier metrics"
   ]
  },
  {
   "cell_type": "code",
   "execution_count": 25,
   "id": "7d05e897",
   "metadata": {},
   "outputs": [],
   "source": [
    "lgbmMetrics=sklearn.metrics.classification_report(y_test, ypred_test,output_dict=True)\n",
    "metrics=lgbmMetrics.get('1.0')#lgbm classifier metrics"
   ]
  },
  {
   "cell_type": "code",
   "execution_count": 26,
   "id": "c94e8dbc",
   "metadata": {},
   "outputs": [],
   "source": [
    "y_pred_proba=clfP.named_steps['classifier'].predict_proba(X_test).tolist()#get probabilities from classifier"
   ]
  },
  {
   "cell_type": "markdown",
   "id": "405a3175",
   "metadata": {},
   "source": [
    "### Save and Log best model (LGBM) to Mlflow"
   ]
  },
  {
   "cell_type": "code",
   "execution_count": 27,
   "id": "634aa7b1",
   "metadata": {},
   "outputs": [],
   "source": [
    "from mlflow.models.signature import infer_signature \n",
    "signature = infer_signature(X_train, y_train)\n",
    "#mlflow.sklearn.save_model(clf, 'mlflow_model', signature=signature)"
   ]
  },
  {
   "cell_type": "code",
   "execution_count": 28,
   "id": "ae5ce443",
   "metadata": {},
   "outputs": [
    {
     "name": "stdout",
     "output_type": "stream",
     "text": [
      "2.2.2\n"
     ]
    }
   ],
   "source": [
    "print(mlflow.__version__)"
   ]
  },
  {
   "cell_type": "code",
   "execution_count": 29,
   "id": "cb07eb94",
   "metadata": {},
   "outputs": [
    {
     "name": "stderr",
     "output_type": "stream",
     "text": [
      "C:\\Users\\olga\\AppData\\Local\\Programs\\Python\\Python310\\lib\\site-packages\\_distutils_hack\\__init__.py:33: UserWarning: Setuptools is replacing distutils.\n",
      "  warnings.warn(\"Setuptools is replacing distutils.\")\n"
     ]
    }
   ],
   "source": [
    "if __name__ == \"__main__\": \n",
    "    import mlflow.sklearn\n",
    "    with mlflow.start_run():\n",
    "        signature = infer_signature(X_train, y_train)\n",
    "        mlflow.sklearn.save_model(clfP, 'mlflow_modelPP', signature=signature)\n",
    "        mlflow.sklearn.log_model(clfP, 'mlflow_modelPP', signature=signature)\n",
    "        mlflow.log_metrics(metrics)\n",
    "        "
   ]
  },
  {
   "cell_type": "raw",
   "id": "3bd5fa98",
   "metadata": {},
   "source": [
    "Deploying the model locally:\n",
    "in Anaconda window:\n",
    "set MLFLOW_TRACKING_URI=http://localhost:5000\n",
    "mlflow models serve -m \"models:/Num_Model/Staging\" -p 5003"
   ]
  },
  {
   "cell_type": "code",
   "execution_count": 33,
   "id": "a0f9fdf6",
   "metadata": {},
   "outputs": [],
   "source": [
    "mlflow.end_run()"
   ]
  },
  {
   "cell_type": "markdown",
   "id": "963f1b34",
   "metadata": {},
   "source": [
    "### Perform prediction using model and return probabilities"
   ]
  },
  {
   "cell_type": "code",
   "execution_count": 27,
   "id": "83fe16d6",
   "metadata": {},
   "outputs": [
    {
     "data": {
      "text/plain": [
       "<mlflow.models.model.ModelInfo at 0x22f512f5840>"
      ]
     },
     "execution_count": 27,
     "metadata": {},
     "output_type": "execute_result"
    }
   ],
   "source": [
    "import mlflow.pyfunc\n",
    "import numpy as np\n",
    "\n",
    "# Define custom PyFunc model class\n",
    "class ProbabilisticModel(mlflow.pyfunc.PythonModel):\n",
    "    def load_context(self, context):\n",
    "        # Load model and any necessary dependencies\n",
    "        import joblib\n",
    "        self.model = joblib.load(context.artifacts[\"model\"])\n",
    "\n",
    "    def predict(self, context, model_input):\n",
    "        # Perform prediction using model and return probabilities\n",
    "        predictions = self.model.predict_proba(model_input)\n",
    "        return predictions\n",
    "\n",
    "# Create an instance of PyFunc model\n",
    "model = ProbabilisticModel()\n",
    "\n",
    "# Log model in MLflow\n",
    "mlflow.pyfunc.log_model(\n",
    "    signature = infer_signature(X_train, y_train),\n",
    "    artifact_path=\"mymy\",\n",
    "    python_model=model,\n",
    "    artifacts={\"model\": \"./mlruns/0/216e7b8e5fc8409eb289ba32c0bddca7/artifacts/mlflow_modelPP/model.pkl\"}\n",
    ")\n"
   ]
  },
  {
   "cell_type": "code",
   "execution_count": 9,
   "id": "c9e8c898",
   "metadata": {},
   "outputs": [
    {
     "data": {
      "text/plain": [
       "array([[9.96771625e-01, 3.22837511e-03],\n",
       "       [9.94246373e-01, 5.75362723e-03],\n",
       "       [9.97817690e-01, 2.18230951e-03],\n",
       "       ...,\n",
       "       [9.98665796e-01, 1.33420401e-03],\n",
       "       [9.99107877e-01, 8.92122787e-04],\n",
       "       [9.12216026e-01, 8.77839741e-02]])"
      ]
     },
     "execution_count": 9,
     "metadata": {},
     "output_type": "execute_result"
    }
   ],
   "source": [
    "import mlflow\n",
    "logged_model = 'runs:/e333d56367d5438698d36cc7805cd60d/mym'\n",
    "\n",
    "# Load model as a PyFuncModel.\n",
    "loaded_model = mlflow.pyfunc.load_model(logged_model)\n",
    "import pandas as pd\n",
    "loaded_model.predict(X_test)"
   ]
  },
  {
   "cell_type": "markdown",
   "id": "6ba7fb69",
   "metadata": {},
   "source": [
    "### Request from the model deployed locally"
   ]
  },
  {
   "cell_type": "raw",
   "id": "b01147e0",
   "metadata": {},
   "source": [
    "(X_test.iloc[0:1]).to_dict(orient=\"list\")"
   ]
  },
  {
   "cell_type": "code",
   "execution_count": 8,
   "id": "c3bee91b",
   "metadata": {},
   "outputs": [
    {
     "name": "stdout",
     "output_type": "stream",
     "text": [
      "{'inputs': {'CODE_GENDER': [0.0], 'FLAG_OWN_CAR': [0.0], 'FLAG_OWN_REALTY': [0.0], 'CNT_CHILDREN': [0.0], 'AMT_INCOME_TOTAL': [315000.0], 'AMT_CREDIT': [585000.0], 'AMT_ANNUITY': [29866.5], 'AMT_GOODS_PRICE': [585000.0], 'REGION_POPULATION_RELATIVE': [0.035792], 'DAYS_BIRTH': [-11560.0], 'DAYS_EMPLOYED': [-1184.0], 'DAYS_REGISTRATION': [-2687.0], 'DAYS_ID_PUBLISH': [-3834.0], 'FLAG_MOBIL': [1.0], 'FLAG_EMP_PHONE': [1.0], 'FLAG_WORK_PHONE': [0.0], 'FLAG_CONT_MOBILE': [1.0], 'FLAG_PHONE': [1.0], 'FLAG_EMAIL': [0.0], 'CNT_FAM_MEMBERS': [2.0], 'REGION_RATING_CLIENT': [2.0], 'REGION_RATING_CLIENT_W_CITY': [2.0], 'HOUR_APPR_PROCESS_START': [16.0], 'REG_REGION_NOT_LIVE_REGION': [0.0], 'REG_REGION_NOT_WORK_REGION': [0.0], 'LIVE_REGION_NOT_WORK_REGION': [0.0], 'REG_CITY_NOT_LIVE_CITY': [0.0], 'REG_CITY_NOT_WORK_CITY': [0.0], 'LIVE_CITY_NOT_WORK_CITY': [0.0], 'EXT_SOURCE_2': [0.6151629457334662], 'EXT_SOURCE_3': [0.5762088360175724], 'YEARS_BEGINEXPLUATATION_AVG': [0.9722], 'FLOORSMAX_AVG': [0.0417], 'YEARS_BEGINEXPLUATATION_MODE': [0.9722], 'FLOORSMAX_MODE': [0.0417], 'YEARS_BEGINEXPLUATATION_MEDI': [0.9722], 'FLOORSMAX_MEDI': [0.0417], 'TOTALAREA_MODE': [0.0057], 'OBS_30_CNT_SOCIAL_CIRCLE': [3.0], 'DEF_30_CNT_SOCIAL_CIRCLE': [0.0], 'OBS_60_CNT_SOCIAL_CIRCLE': [3.0], 'DEF_60_CNT_SOCIAL_CIRCLE': [0.0], 'DAYS_LAST_PHONE_CHANGE': [-2098.0], 'FLAG_DOCUMENT_2': [0.0], 'FLAG_DOCUMENT_3': [1.0], 'FLAG_DOCUMENT_4': [0.0], 'FLAG_DOCUMENT_5': [0.0], 'FLAG_DOCUMENT_6': [0.0], 'FLAG_DOCUMENT_7': [0.0], 'FLAG_DOCUMENT_8': [0.0], 'FLAG_DOCUMENT_9': [0.0], 'FLAG_DOCUMENT_10': [0.0], 'FLAG_DOCUMENT_11': [0.0], 'FLAG_DOCUMENT_12': [0.0], 'FLAG_DOCUMENT_13': [0.0], 'FLAG_DOCUMENT_14': [0.0], 'FLAG_DOCUMENT_15': [0.0], 'FLAG_DOCUMENT_16': [0.0], 'FLAG_DOCUMENT_17': [0.0], 'FLAG_DOCUMENT_18': [0.0], 'FLAG_DOCUMENT_19': [0.0], 'FLAG_DOCUMENT_20': [0.0], 'FLAG_DOCUMENT_21': [0.0], 'AMT_REQ_CREDIT_BUREAU_HOUR': [0.0], 'AMT_REQ_CREDIT_BUREAU_DAY': [0.0], 'AMT_REQ_CREDIT_BUREAU_WEEK': [0.0], 'AMT_REQ_CREDIT_BUREAU_MON': [1.0], 'AMT_REQ_CREDIT_BUREAU_QRT': [0.0], 'AMT_REQ_CREDIT_BUREAU_YEAR': [3.0], 'DAYS_EMPLOYED_PERC': [0.1024221453287197], 'INCOME_CREDIT_PERC': [0.5384615384615384], 'INCOME_PER_PERSON': [157500.0], 'ANNUITY_INCOME_PERC': [0.0948142857142857], 'PAYMENT_RATE': [0.0510538461538461], 'BURO_DAYS_CREDIT_MIN': [-2772.0], 'BURO_DAYS_CREDIT_MAX': [-111.0], 'BURO_DAYS_CREDIT_MEAN': [-1748.6875], 'BURO_DAYS_CREDIT_VAR': [925062.4958333332], 'BURO_DAYS_CREDIT_ENDDATE_MIN': [-2537.0], 'BURO_DAYS_CREDIT_ENDDATE_MAX': [1163.0], 'BURO_DAYS_CREDIT_ENDDATE_MEAN': [-1121.375], 'BURO_DAYS_CREDIT_UPDATE_MEAN': [-744.625], 'BURO_CREDIT_DAY_OVERDUE_MAX': [0.0], 'BURO_CREDIT_DAY_OVERDUE_MEAN': [0.0], 'BURO_AMT_CREDIT_MAX_OVERDUE_MEAN': [0.0], 'BURO_AMT_CREDIT_SUM_MAX': [2025000.0], 'BURO_AMT_CREDIT_SUM_MEAN': [319504.89937500004], 'BURO_AMT_CREDIT_SUM_SUM': [5112078.390000001], 'BURO_AMT_CREDIT_SUM_DEBT_MAX': [1473493.5], 'BURO_AMT_CREDIT_SUM_DEBT_MEAN': [142649.92500000002], 'BURO_AMT_CREDIT_SUM_DEBT_SUM': [1711799.1], 'BURO_AMT_CREDIT_SUM_OVERDUE_MEAN': [0.0], 'BURO_AMT_CREDIT_SUM_LIMIT_MEAN': [0.0], 'BURO_AMT_CREDIT_SUM_LIMIT_SUM': [0.0], 'BURO_CNT_CREDIT_PROLONG_SUM': [0.0], 'BURO_MONTHS_BALANCE_SIZE_SUM': [428.0], 'PREV_AMT_ANNUITY_MIN': [2834.73], 'PREV_AMT_ANNUITY_MAX': [53541.0], 'PREV_AMT_ANNUITY_MEAN': [17282.88], 'PREV_AMT_APPLICATION_MIN': [26190.0], 'PREV_AMT_APPLICATION_MAX': [1350000.0], 'PREV_AMT_APPLICATION_MEAN': [269472.21428571426], 'PREV_AMT_CREDIT_MIN': [25515.0], 'PREV_AMT_CREDIT_MAX': [1350000.0], 'PREV_AMT_CREDIT_MEAN': [269427.21428571426], 'PREV_APP_CREDIT_PERC_MIN': [0.9478672985781992], 'PREV_APP_CREDIT_PERC_MAX': [1.0264550264550265], 'PREV_APP_CREDIT_PERC_MEAN': [1.0076625409350486], 'PREV_APP_CREDIT_PERC_VAR': [0.0008506110169683], 'PREV_AMT_DOWN_PAYMENT_MIN': [0.0], 'PREV_AMT_DOWN_PAYMENT_MAX': [12892.5], 'PREV_AMT_DOWN_PAYMENT_MEAN': [5007.75], 'PREV_AMT_GOODS_PRICE_MIN': [26190.0], 'PREV_AMT_GOODS_PRICE_MAX': [1350000.0], 'PREV_AMT_GOODS_PRICE_MEAN': [269472.21428571426], 'PREV_HOUR_APPR_PROCESS_START_MIN': [14.0], 'PREV_HOUR_APPR_PROCESS_START_MAX': [19.0], 'PREV_HOUR_APPR_PROCESS_START_MEAN': [16.0], 'PREV_RATE_DOWN_PAYMENT_MIN': [0.0], 'PREV_RATE_DOWN_PAYMENT_MAX': [0.1013837026696911], 'PREV_RATE_DOWN_PAYMENT_MEAN': [0.0675883943493886], 'PREV_DAYS_DECISION_MIN': [-2767.0], 'PREV_DAYS_DECISION_MAX': [-224.0], 'PREV_DAYS_DECISION_MEAN': [-2006.857142857143], 'PREV_CNT_PAYMENT_MEAN': [14.333333333333334], 'PREV_CNT_PAYMENT_SUM': [86.0], 'POS_MONTHS_BALANCE_MAX': [-3.0], 'POS_MONTHS_BALANCE_MEAN': [-69.29310344827586], 'POS_MONTHS_BALANCE_SIZE': [58.0], 'POS_SK_DPD_MAX': [0.0], 'POS_SK_DPD_MEAN': [0.0], 'POS_SK_DPD_DEF_MAX': [0.0], 'POS_SK_DPD_DEF_MEAN': [0.0], 'POS_COUNT': [58.0], 'INSTAL_NUM_INSTALMENT_VERSION_NUNIQUE': [2.0], 'INSTAL_DPD_MAX': [21.0], 'INSTAL_DPD_MEAN': [1.4107142857142858], 'INSTAL_DPD_SUM': [79.0], 'INSTAL_DBD_MAX': [103.0], 'INSTAL_DBD_MEAN': [22.589285714285715], 'INSTAL_DBD_SUM': [1265.0], 'INSTAL_PAYMENT_PERC_MAX': [1.0], 'INSTAL_PAYMENT_PERC_MEAN': [0.9285714285714286], 'INSTAL_PAYMENT_PERC_SUM': [52.0], 'INSTAL_PAYMENT_PERC_VAR': [0.0665208053010336], 'INSTAL_PAYMENT_DIFF_MAX': [8252.235], 'INSTAL_PAYMENT_DIFF_MEAN': [495.0353571428572], 'INSTAL_PAYMENT_DIFF_SUM': [27721.98], 'INSTAL_PAYMENT_DIFF_VAR': [3607647.696797143], 'INSTAL_AMT_INSTALMENT_MAX': [1297768.77], 'INSTAL_AMT_INSTALMENT_MEAN': [36337.16892857143], 'INSTAL_AMT_INSTALMENT_SUM': [2034881.46], 'INSTAL_AMT_PAYMENT_MIN': [34.92], 'INSTAL_AMT_PAYMENT_MAX': [1297768.77], 'INSTAL_AMT_PAYMENT_MEAN': [35842.133571428574], 'INSTAL_AMT_PAYMENT_SUM': [2007159.48], 'INSTAL_DAYS_ENTRY_PAYMENT_MAX': [-105.0], 'INSTAL_DAYS_ENTRY_PAYMENT_MEAN': [-2194.5178571428573], 'INSTAL_DAYS_ENTRY_PAYMENT_SUM': [-122893.0], 'INSTAL_COUNT': [56.0]}}\n",
      "{'predictions': [[0.9917136727894613, 0.008286327210538628]]}\n"
     ]
    }
   ],
   "source": [
    "import requests\n",
    "\n",
    "DEPLOYED_MODEL = \"http://127.0.0.1:5003/invocations\"\n",
    "headers = {\"Content-Type\": \"application/json\"}\n",
    "\n",
    "inputs = {\"inputs\": (X_test.iloc[0:1]).to_dict(orient=\"list\")}\n",
    "print(inputs)\n",
    "prediction = requests.post(url=DEPLOYED_MODEL, json=inputs, headers=headers)\n",
    "\n",
    "# Extract the response data as a dictionary\n",
    "response_data = prediction.json()\n",
    "\n",
    "# Print the response data\n",
    "print(response_data)\n"
   ]
  },
  {
   "cell_type": "code",
   "execution_count": 9,
   "id": "704a658f",
   "metadata": {},
   "outputs": [
    {
     "name": "stdout",
     "output_type": "stream",
     "text": [
      "score of the client:  0.9917136727894613\n",
      "current threshold:  0.83\n",
      "congrats, loan approved\n"
     ]
    }
   ],
   "source": [
    "resp=response_data.get('predictions')[0][0]#predicted probability to 0 class (approved loan class)\n",
    "print(\"score of the client: \",resp)\n",
    "threshold=0.83 #threshold found by cout-metier function\n",
    "print(\"current threshold: \", threshold)\n",
    "if resp>threshold:\n",
    "    print(\"congrats, loan approved\")\n",
    "else:\n",
    "    print(\"loan denied\")"
   ]
  }
 ],
 "metadata": {
  "kernelspec": {
   "display_name": "Python 3 (ipykernel)",
   "language": "python",
   "name": "python3"
  },
  "language_info": {
   "codemirror_mode": {
    "name": "ipython",
    "version": 3
   },
   "file_extension": ".py",
   "mimetype": "text/x-python",
   "name": "python",
   "nbconvert_exporter": "python",
   "pygments_lexer": "ipython3",
   "version": "3.10.7"
  },
  "toc": {
   "base_numbering": 1,
   "nav_menu": {},
   "number_sections": false,
   "sideBar": true,
   "skip_h1_title": false,
   "title_cell": "Table of Contents",
   "title_sidebar": "Contents",
   "toc_cell": false,
   "toc_position": {
    "height": "calc(100% - 180px)",
    "left": "10px",
    "top": "150px",
    "width": "199px"
   },
   "toc_section_display": true,
   "toc_window_display": false
  }
 },
 "nbformat": 4,
 "nbformat_minor": 5
}
