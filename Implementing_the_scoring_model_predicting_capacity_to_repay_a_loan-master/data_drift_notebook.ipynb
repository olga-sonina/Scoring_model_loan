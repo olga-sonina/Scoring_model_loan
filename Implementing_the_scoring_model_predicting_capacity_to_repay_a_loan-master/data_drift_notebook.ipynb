{
 "cells": [
  {
   "cell_type": "markdown",
   "id": "5d42ae09",
   "metadata": {},
   "source": [
    "### Import libraries"
   ]
  },
  {
   "cell_type": "code",
   "execution_count": 1,
   "id": "0719b493",
   "metadata": {},
   "outputs": [],
   "source": [
    "import pandas as pd\n",
    "import numpy as np\n",
    "import matplotlib.pyplot as plt\n",
    "import seaborn as sns\n",
    "import mlflow\n",
    "from lightgbm import LGBMClassifier\n",
    "from sklearn.metrics import roc_auc_score, roc_curve\n",
    "from sklearn.model_selection import KFold, StratifiedKFold\n",
    "from sklearn.model_selection import train_test_split\n",
    "import warnings\n",
    "import re\n",
    "from sklearn.model_selection import (train_test_split, GridSearchCV)\n",
    "warnings.simplefilter(action='ignore', category=FutureWarning)"
   ]
  },
  {
   "cell_type": "markdown",
   "id": "0f8667fc",
   "metadata": {},
   "source": [
    "### Data Drift"
   ]
  },
  {
   "cell_type": "code",
   "execution_count": 26,
   "id": "429f2bd6",
   "metadata": {},
   "outputs": [],
   "source": [
    "from evidently.report import Report\n",
    "from evidently.metric_preset import DataDriftPreset"
   ]
  },
  {
   "cell_type": "code",
   "execution_count": 32,
   "id": "fbffd532",
   "metadata": {},
   "outputs": [
    {
     "name": "stdout",
     "output_type": "stream",
     "text": [
      "train shape:  (307511, 122)\n",
      "test shape:  (48744, 121)\n"
     ]
    }
   ],
   "source": [
    "df_train = pd.read_csv('data/application_train.csv')\n",
    "df_train = df_train.rename(columns = lambda x:re.sub('[^A-Za-z0-9_]+', '', x))\n",
    "df_train.columns = [\"\".join (c if c.isalnum() else \"_\" for c in str(x)) for x in df_train.columns]\n",
    "df_test = pd.read_csv('data/application_test.csv')\n",
    "df_test = df_test.rename(columns = lambda x:re.sub('[^A-Za-z0-9_]+', '', x))\n",
    "df_test.columns = [\"\".join (c if c.isalnum() else \"_\" for c in str(x)) for x in df_test.columns]\n",
    "print('train shape: ', df_train.shape)\n",
    "print('test shape: ', df_test.shape)"
   ]
  },
  {
   "cell_type": "code",
   "execution_count": null,
   "id": "dd5bb666",
   "metadata": {},
   "outputs": [],
   "source": [
    "data_drift_report = Report(metrics=[\n",
    "    DataDriftPreset(),\n",
    "])\n",
    "\n",
    "data_drift_report.run(current_data=df_train, reference_data=df_test, column_mapping=None)\n",
    "data_drift_report"
   ]
  },
  {
   "cell_type": "code",
   "execution_count": 33,
   "id": "8f4af1cb",
   "metadata": {},
   "outputs": [],
   "source": [
    "data_drift_report.save_html(\"report.html\")"
   ]
  }
 ],
 "metadata": {
  "kernelspec": {
   "display_name": "Python 3 (ipykernel)",
   "language": "python",
   "name": "python3"
  },
  "language_info": {
   "codemirror_mode": {
    "name": "ipython",
    "version": 3
   },
   "file_extension": ".py",
   "mimetype": "text/x-python",
   "name": "python",
   "nbconvert_exporter": "python",
   "pygments_lexer": "ipython3",
   "version": "3.10.7"
  },
  "toc": {
   "base_numbering": 1,
   "nav_menu": {},
   "number_sections": false,
   "sideBar": true,
   "skip_h1_title": false,
   "title_cell": "Table of Contents",
   "title_sidebar": "Contents",
   "toc_cell": false,
   "toc_position": {
    "height": "calc(100% - 180px)",
    "left": "10px",
    "top": "150px",
    "width": "199px"
   },
   "toc_section_display": true,
   "toc_window_display": false
  }
 },
 "nbformat": 4,
 "nbformat_minor": 5
}
